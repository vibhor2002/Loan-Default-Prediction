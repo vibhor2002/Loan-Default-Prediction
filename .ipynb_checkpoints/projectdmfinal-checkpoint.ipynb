{
 "cells": [
  {
   "cell_type": "markdown",
   "metadata": {
    "_cell_guid": "b1076dfc-b9ad-4769-8c92-a6c4dae69d19",
    "_uuid": "8f2839f25d086af736a60e9eeb907d3b93b6e0e5",
    "execution": {
     "iopub.execute_input": "2022-07-03T22:45:47.942296Z",
     "iopub.status.busy": "2022-07-03T22:45:47.941998Z",
     "iopub.status.idle": "2022-07-03T22:45:47.945997Z",
     "shell.execute_reply": "2022-07-03T22:45:47.945073Z",
     "shell.execute_reply.started": "2022-07-03T22:45:47.942273Z"
    }
   },
   "source": [
    "# Default Prediction"
   ]
  },
  {
   "cell_type": "code",
   "execution_count": 1,
   "metadata": {
    "execution": {
     "iopub.execute_input": "2022-07-04T00:17:06.452521Z",
     "iopub.status.busy": "2022-07-04T00:17:06.452016Z",
     "iopub.status.idle": "2022-07-04T00:17:08.111984Z",
     "shell.execute_reply": "2022-07-04T00:17:08.110412Z",
     "shell.execute_reply.started": "2022-07-04T00:17:06.452416Z"
    }
   },
   "outputs": [],
   "source": [
    "import numpy as np\n",
    "import pandas as pd\n",
    "import matplotlib.pyplot as plt\n",
    "\n",
    "import seaborn as sns\n",
    "from sklearn.model_selection import train_test_split\n",
    "from sklearn.preprocessing import StandardScaler\n",
    "from imblearn.under_sampling import RandomUnderSampler\n",
    "from imblearn.over_sampling import SMOTE\n",
    "\n",
    "sns.set(rc={'figure.figsize': [10, 10]}, font_scale=1.3)"
   ]
  },
  {
   "cell_type": "code",
   "execution_count": 2,
   "metadata": {
    "execution": {
     "iopub.execute_input": "2022-07-04T00:17:11.13178Z",
     "iopub.status.busy": "2022-07-04T00:17:11.131209Z",
     "iopub.status.idle": "2022-07-04T00:17:12.370252Z",
     "shell.execute_reply": "2022-07-04T00:17:12.369209Z",
     "shell.execute_reply.started": "2022-07-04T00:17:11.131727Z"
    }
   },
   "outputs": [],
   "source": [
    "df=pd.read_csv(\"Loan_Default.csv\")"
   ]
  },
  {
   "cell_type": "code",
   "execution_count": 3,
   "metadata": {
    "execution": {
     "iopub.execute_input": "2022-07-04T00:17:12.373729Z",
     "iopub.status.busy": "2022-07-04T00:17:12.372829Z",
     "iopub.status.idle": "2022-07-04T00:17:12.504985Z",
     "shell.execute_reply": "2022-07-04T00:17:12.503612Z",
     "shell.execute_reply.started": "2022-07-04T00:17:12.373664Z"
    }
   },
   "outputs": [
    {
     "data": {
      "text/html": [
       "<div>\n",
       "<style scoped>\n",
       "    .dataframe tbody tr th:only-of-type {\n",
       "        vertical-align: middle;\n",
       "    }\n",
       "\n",
       "    .dataframe tbody tr th {\n",
       "        vertical-align: top;\n",
       "    }\n",
       "\n",
       "    .dataframe thead th {\n",
       "        text-align: right;\n",
       "    }\n",
       "</style>\n",
       "<table border=\"1\" class=\"dataframe\">\n",
       "  <thead>\n",
       "    <tr style=\"text-align: right;\">\n",
       "      <th></th>\n",
       "      <th>ID</th>\n",
       "      <th>year</th>\n",
       "      <th>loan_limit</th>\n",
       "      <th>Gender</th>\n",
       "      <th>approv_in_adv</th>\n",
       "      <th>loan_type</th>\n",
       "      <th>loan_purpose</th>\n",
       "      <th>Credit_Worthiness</th>\n",
       "      <th>open_credit</th>\n",
       "      <th>business_or_commercial</th>\n",
       "      <th>...</th>\n",
       "      <th>credit_type</th>\n",
       "      <th>Credit_Score</th>\n",
       "      <th>co-applicant_credit_type</th>\n",
       "      <th>age</th>\n",
       "      <th>submission_of_application</th>\n",
       "      <th>LTV</th>\n",
       "      <th>Region</th>\n",
       "      <th>Security_Type</th>\n",
       "      <th>Status</th>\n",
       "      <th>dtir1</th>\n",
       "    </tr>\n",
       "  </thead>\n",
       "  <tbody>\n",
       "    <tr>\n",
       "      <th>0</th>\n",
       "      <td>24890</td>\n",
       "      <td>2019</td>\n",
       "      <td>cf</td>\n",
       "      <td>Sex Not Available</td>\n",
       "      <td>nopre</td>\n",
       "      <td>type1</td>\n",
       "      <td>p1</td>\n",
       "      <td>l1</td>\n",
       "      <td>nopc</td>\n",
       "      <td>nob/c</td>\n",
       "      <td>...</td>\n",
       "      <td>EXP</td>\n",
       "      <td>758</td>\n",
       "      <td>CIB</td>\n",
       "      <td>25-34</td>\n",
       "      <td>to_inst</td>\n",
       "      <td>98.728814</td>\n",
       "      <td>south</td>\n",
       "      <td>direct</td>\n",
       "      <td>1</td>\n",
       "      <td>45.0</td>\n",
       "    </tr>\n",
       "    <tr>\n",
       "      <th>1</th>\n",
       "      <td>24891</td>\n",
       "      <td>2019</td>\n",
       "      <td>cf</td>\n",
       "      <td>Male</td>\n",
       "      <td>nopre</td>\n",
       "      <td>type2</td>\n",
       "      <td>p1</td>\n",
       "      <td>l1</td>\n",
       "      <td>nopc</td>\n",
       "      <td>b/c</td>\n",
       "      <td>...</td>\n",
       "      <td>EQUI</td>\n",
       "      <td>552</td>\n",
       "      <td>EXP</td>\n",
       "      <td>55-64</td>\n",
       "      <td>to_inst</td>\n",
       "      <td>NaN</td>\n",
       "      <td>North</td>\n",
       "      <td>direct</td>\n",
       "      <td>1</td>\n",
       "      <td>NaN</td>\n",
       "    </tr>\n",
       "    <tr>\n",
       "      <th>2</th>\n",
       "      <td>24892</td>\n",
       "      <td>2019</td>\n",
       "      <td>cf</td>\n",
       "      <td>Male</td>\n",
       "      <td>pre</td>\n",
       "      <td>type1</td>\n",
       "      <td>p1</td>\n",
       "      <td>l1</td>\n",
       "      <td>nopc</td>\n",
       "      <td>nob/c</td>\n",
       "      <td>...</td>\n",
       "      <td>EXP</td>\n",
       "      <td>834</td>\n",
       "      <td>CIB</td>\n",
       "      <td>35-44</td>\n",
       "      <td>to_inst</td>\n",
       "      <td>80.019685</td>\n",
       "      <td>south</td>\n",
       "      <td>direct</td>\n",
       "      <td>0</td>\n",
       "      <td>46.0</td>\n",
       "    </tr>\n",
       "    <tr>\n",
       "      <th>3</th>\n",
       "      <td>24893</td>\n",
       "      <td>2019</td>\n",
       "      <td>cf</td>\n",
       "      <td>Male</td>\n",
       "      <td>nopre</td>\n",
       "      <td>type1</td>\n",
       "      <td>p4</td>\n",
       "      <td>l1</td>\n",
       "      <td>nopc</td>\n",
       "      <td>nob/c</td>\n",
       "      <td>...</td>\n",
       "      <td>EXP</td>\n",
       "      <td>587</td>\n",
       "      <td>CIB</td>\n",
       "      <td>45-54</td>\n",
       "      <td>not_inst</td>\n",
       "      <td>69.376900</td>\n",
       "      <td>North</td>\n",
       "      <td>direct</td>\n",
       "      <td>0</td>\n",
       "      <td>42.0</td>\n",
       "    </tr>\n",
       "    <tr>\n",
       "      <th>4</th>\n",
       "      <td>24894</td>\n",
       "      <td>2019</td>\n",
       "      <td>cf</td>\n",
       "      <td>Joint</td>\n",
       "      <td>pre</td>\n",
       "      <td>type1</td>\n",
       "      <td>p1</td>\n",
       "      <td>l1</td>\n",
       "      <td>nopc</td>\n",
       "      <td>nob/c</td>\n",
       "      <td>...</td>\n",
       "      <td>CRIF</td>\n",
       "      <td>602</td>\n",
       "      <td>EXP</td>\n",
       "      <td>25-34</td>\n",
       "      <td>not_inst</td>\n",
       "      <td>91.886544</td>\n",
       "      <td>North</td>\n",
       "      <td>direct</td>\n",
       "      <td>0</td>\n",
       "      <td>39.0</td>\n",
       "    </tr>\n",
       "    <tr>\n",
       "      <th>...</th>\n",
       "      <td>...</td>\n",
       "      <td>...</td>\n",
       "      <td>...</td>\n",
       "      <td>...</td>\n",
       "      <td>...</td>\n",
       "      <td>...</td>\n",
       "      <td>...</td>\n",
       "      <td>...</td>\n",
       "      <td>...</td>\n",
       "      <td>...</td>\n",
       "      <td>...</td>\n",
       "      <td>...</td>\n",
       "      <td>...</td>\n",
       "      <td>...</td>\n",
       "      <td>...</td>\n",
       "      <td>...</td>\n",
       "      <td>...</td>\n",
       "      <td>...</td>\n",
       "      <td>...</td>\n",
       "      <td>...</td>\n",
       "      <td>...</td>\n",
       "    </tr>\n",
       "    <tr>\n",
       "      <th>148665</th>\n",
       "      <td>173555</td>\n",
       "      <td>2019</td>\n",
       "      <td>cf</td>\n",
       "      <td>Sex Not Available</td>\n",
       "      <td>nopre</td>\n",
       "      <td>type1</td>\n",
       "      <td>p3</td>\n",
       "      <td>l1</td>\n",
       "      <td>nopc</td>\n",
       "      <td>nob/c</td>\n",
       "      <td>...</td>\n",
       "      <td>CIB</td>\n",
       "      <td>659</td>\n",
       "      <td>EXP</td>\n",
       "      <td>55-64</td>\n",
       "      <td>to_inst</td>\n",
       "      <td>71.792763</td>\n",
       "      <td>south</td>\n",
       "      <td>direct</td>\n",
       "      <td>0</td>\n",
       "      <td>48.0</td>\n",
       "    </tr>\n",
       "    <tr>\n",
       "      <th>148666</th>\n",
       "      <td>173556</td>\n",
       "      <td>2019</td>\n",
       "      <td>cf</td>\n",
       "      <td>Male</td>\n",
       "      <td>nopre</td>\n",
       "      <td>type1</td>\n",
       "      <td>p1</td>\n",
       "      <td>l1</td>\n",
       "      <td>nopc</td>\n",
       "      <td>nob/c</td>\n",
       "      <td>...</td>\n",
       "      <td>CIB</td>\n",
       "      <td>569</td>\n",
       "      <td>CIB</td>\n",
       "      <td>25-34</td>\n",
       "      <td>not_inst</td>\n",
       "      <td>74.428934</td>\n",
       "      <td>south</td>\n",
       "      <td>direct</td>\n",
       "      <td>0</td>\n",
       "      <td>15.0</td>\n",
       "    </tr>\n",
       "    <tr>\n",
       "      <th>148667</th>\n",
       "      <td>173557</td>\n",
       "      <td>2019</td>\n",
       "      <td>cf</td>\n",
       "      <td>Male</td>\n",
       "      <td>nopre</td>\n",
       "      <td>type1</td>\n",
       "      <td>p4</td>\n",
       "      <td>l1</td>\n",
       "      <td>nopc</td>\n",
       "      <td>nob/c</td>\n",
       "      <td>...</td>\n",
       "      <td>CIB</td>\n",
       "      <td>702</td>\n",
       "      <td>EXP</td>\n",
       "      <td>45-54</td>\n",
       "      <td>not_inst</td>\n",
       "      <td>61.332418</td>\n",
       "      <td>North</td>\n",
       "      <td>direct</td>\n",
       "      <td>0</td>\n",
       "      <td>49.0</td>\n",
       "    </tr>\n",
       "    <tr>\n",
       "      <th>148668</th>\n",
       "      <td>173558</td>\n",
       "      <td>2019</td>\n",
       "      <td>cf</td>\n",
       "      <td>Female</td>\n",
       "      <td>nopre</td>\n",
       "      <td>type1</td>\n",
       "      <td>p4</td>\n",
       "      <td>l1</td>\n",
       "      <td>nopc</td>\n",
       "      <td>nob/c</td>\n",
       "      <td>...</td>\n",
       "      <td>EXP</td>\n",
       "      <td>737</td>\n",
       "      <td>EXP</td>\n",
       "      <td>55-64</td>\n",
       "      <td>to_inst</td>\n",
       "      <td>70.683453</td>\n",
       "      <td>North</td>\n",
       "      <td>direct</td>\n",
       "      <td>0</td>\n",
       "      <td>29.0</td>\n",
       "    </tr>\n",
       "    <tr>\n",
       "      <th>148669</th>\n",
       "      <td>173559</td>\n",
       "      <td>2019</td>\n",
       "      <td>cf</td>\n",
       "      <td>Female</td>\n",
       "      <td>nopre</td>\n",
       "      <td>type1</td>\n",
       "      <td>p3</td>\n",
       "      <td>l1</td>\n",
       "      <td>nopc</td>\n",
       "      <td>nob/c</td>\n",
       "      <td>...</td>\n",
       "      <td>CIB</td>\n",
       "      <td>830</td>\n",
       "      <td>CIB</td>\n",
       "      <td>45-54</td>\n",
       "      <td>not_inst</td>\n",
       "      <td>72.849462</td>\n",
       "      <td>North</td>\n",
       "      <td>direct</td>\n",
       "      <td>0</td>\n",
       "      <td>44.0</td>\n",
       "    </tr>\n",
       "  </tbody>\n",
       "</table>\n",
       "<p>148670 rows × 34 columns</p>\n",
       "</div>"
      ],
      "text/plain": [
       "            ID  year loan_limit             Gender approv_in_adv loan_type  \\\n",
       "0        24890  2019         cf  Sex Not Available         nopre     type1   \n",
       "1        24891  2019         cf               Male         nopre     type2   \n",
       "2        24892  2019         cf               Male           pre     type1   \n",
       "3        24893  2019         cf               Male         nopre     type1   \n",
       "4        24894  2019         cf              Joint           pre     type1   \n",
       "...        ...   ...        ...                ...           ...       ...   \n",
       "148665  173555  2019         cf  Sex Not Available         nopre     type1   \n",
       "148666  173556  2019         cf               Male         nopre     type1   \n",
       "148667  173557  2019         cf               Male         nopre     type1   \n",
       "148668  173558  2019         cf             Female         nopre     type1   \n",
       "148669  173559  2019         cf             Female         nopre     type1   \n",
       "\n",
       "       loan_purpose Credit_Worthiness open_credit business_or_commercial  ...  \\\n",
       "0                p1                l1        nopc                  nob/c  ...   \n",
       "1                p1                l1        nopc                    b/c  ...   \n",
       "2                p1                l1        nopc                  nob/c  ...   \n",
       "3                p4                l1        nopc                  nob/c  ...   \n",
       "4                p1                l1        nopc                  nob/c  ...   \n",
       "...             ...               ...         ...                    ...  ...   \n",
       "148665           p3                l1        nopc                  nob/c  ...   \n",
       "148666           p1                l1        nopc                  nob/c  ...   \n",
       "148667           p4                l1        nopc                  nob/c  ...   \n",
       "148668           p4                l1        nopc                  nob/c  ...   \n",
       "148669           p3                l1        nopc                  nob/c  ...   \n",
       "\n",
       "        credit_type  Credit_Score  co-applicant_credit_type    age  \\\n",
       "0               EXP           758                       CIB  25-34   \n",
       "1              EQUI           552                       EXP  55-64   \n",
       "2               EXP           834                       CIB  35-44   \n",
       "3               EXP           587                       CIB  45-54   \n",
       "4              CRIF           602                       EXP  25-34   \n",
       "...             ...           ...                       ...    ...   \n",
       "148665          CIB           659                       EXP  55-64   \n",
       "148666          CIB           569                       CIB  25-34   \n",
       "148667          CIB           702                       EXP  45-54   \n",
       "148668          EXP           737                       EXP  55-64   \n",
       "148669          CIB           830                       CIB  45-54   \n",
       "\n",
       "        submission_of_application        LTV Region Security_Type  Status  \\\n",
       "0                         to_inst  98.728814  south        direct       1   \n",
       "1                         to_inst        NaN  North        direct       1   \n",
       "2                         to_inst  80.019685  south        direct       0   \n",
       "3                        not_inst  69.376900  North        direct       0   \n",
       "4                        not_inst  91.886544  North        direct       0   \n",
       "...                           ...        ...    ...           ...     ...   \n",
       "148665                    to_inst  71.792763  south        direct       0   \n",
       "148666                   not_inst  74.428934  south        direct       0   \n",
       "148667                   not_inst  61.332418  North        direct       0   \n",
       "148668                    to_inst  70.683453  North        direct       0   \n",
       "148669                   not_inst  72.849462  North        direct       0   \n",
       "\n",
       "       dtir1  \n",
       "0       45.0  \n",
       "1        NaN  \n",
       "2       46.0  \n",
       "3       42.0  \n",
       "4       39.0  \n",
       "...      ...  \n",
       "148665  48.0  \n",
       "148666  15.0  \n",
       "148667  49.0  \n",
       "148668  29.0  \n",
       "148669  44.0  \n",
       "\n",
       "[148670 rows x 34 columns]"
      ]
     },
     "execution_count": 3,
     "metadata": {},
     "output_type": "execute_result"
    }
   ],
   "source": [
    "df"
   ]
  },
  {
   "cell_type": "code",
   "execution_count": 4,
   "metadata": {
    "execution": {
     "iopub.execute_input": "2022-07-04T00:17:12.878433Z",
     "iopub.status.busy": "2022-07-04T00:17:12.877958Z",
     "iopub.status.idle": "2022-07-04T00:17:12.91109Z",
     "shell.execute_reply": "2022-07-04T00:17:12.909613Z",
     "shell.execute_reply.started": "2022-07-04T00:17:12.878399Z"
    }
   },
   "outputs": [
    {
     "data": {
      "text/html": [
       "<div>\n",
       "<style scoped>\n",
       "    .dataframe tbody tr th:only-of-type {\n",
       "        vertical-align: middle;\n",
       "    }\n",
       "\n",
       "    .dataframe tbody tr th {\n",
       "        vertical-align: top;\n",
       "    }\n",
       "\n",
       "    .dataframe thead th {\n",
       "        text-align: right;\n",
       "    }\n",
       "</style>\n",
       "<table border=\"1\" class=\"dataframe\">\n",
       "  <thead>\n",
       "    <tr style=\"text-align: right;\">\n",
       "      <th></th>\n",
       "      <th>ID</th>\n",
       "      <th>year</th>\n",
       "      <th>loan_limit</th>\n",
       "      <th>Gender</th>\n",
       "      <th>approv_in_adv</th>\n",
       "      <th>loan_type</th>\n",
       "      <th>loan_purpose</th>\n",
       "      <th>Credit_Worthiness</th>\n",
       "      <th>open_credit</th>\n",
       "      <th>business_or_commercial</th>\n",
       "      <th>...</th>\n",
       "      <th>credit_type</th>\n",
       "      <th>Credit_Score</th>\n",
       "      <th>co-applicant_credit_type</th>\n",
       "      <th>age</th>\n",
       "      <th>submission_of_application</th>\n",
       "      <th>LTV</th>\n",
       "      <th>Region</th>\n",
       "      <th>Security_Type</th>\n",
       "      <th>Status</th>\n",
       "      <th>dtir1</th>\n",
       "    </tr>\n",
       "  </thead>\n",
       "  <tbody>\n",
       "    <tr>\n",
       "      <th>0</th>\n",
       "      <td>24890</td>\n",
       "      <td>2019</td>\n",
       "      <td>cf</td>\n",
       "      <td>Sex Not Available</td>\n",
       "      <td>nopre</td>\n",
       "      <td>type1</td>\n",
       "      <td>p1</td>\n",
       "      <td>l1</td>\n",
       "      <td>nopc</td>\n",
       "      <td>nob/c</td>\n",
       "      <td>...</td>\n",
       "      <td>EXP</td>\n",
       "      <td>758</td>\n",
       "      <td>CIB</td>\n",
       "      <td>25-34</td>\n",
       "      <td>to_inst</td>\n",
       "      <td>98.728814</td>\n",
       "      <td>south</td>\n",
       "      <td>direct</td>\n",
       "      <td>1</td>\n",
       "      <td>45.0</td>\n",
       "    </tr>\n",
       "    <tr>\n",
       "      <th>1</th>\n",
       "      <td>24891</td>\n",
       "      <td>2019</td>\n",
       "      <td>cf</td>\n",
       "      <td>Male</td>\n",
       "      <td>nopre</td>\n",
       "      <td>type2</td>\n",
       "      <td>p1</td>\n",
       "      <td>l1</td>\n",
       "      <td>nopc</td>\n",
       "      <td>b/c</td>\n",
       "      <td>...</td>\n",
       "      <td>EQUI</td>\n",
       "      <td>552</td>\n",
       "      <td>EXP</td>\n",
       "      <td>55-64</td>\n",
       "      <td>to_inst</td>\n",
       "      <td>NaN</td>\n",
       "      <td>North</td>\n",
       "      <td>direct</td>\n",
       "      <td>1</td>\n",
       "      <td>NaN</td>\n",
       "    </tr>\n",
       "    <tr>\n",
       "      <th>2</th>\n",
       "      <td>24892</td>\n",
       "      <td>2019</td>\n",
       "      <td>cf</td>\n",
       "      <td>Male</td>\n",
       "      <td>pre</td>\n",
       "      <td>type1</td>\n",
       "      <td>p1</td>\n",
       "      <td>l1</td>\n",
       "      <td>nopc</td>\n",
       "      <td>nob/c</td>\n",
       "      <td>...</td>\n",
       "      <td>EXP</td>\n",
       "      <td>834</td>\n",
       "      <td>CIB</td>\n",
       "      <td>35-44</td>\n",
       "      <td>to_inst</td>\n",
       "      <td>80.019685</td>\n",
       "      <td>south</td>\n",
       "      <td>direct</td>\n",
       "      <td>0</td>\n",
       "      <td>46.0</td>\n",
       "    </tr>\n",
       "    <tr>\n",
       "      <th>3</th>\n",
       "      <td>24893</td>\n",
       "      <td>2019</td>\n",
       "      <td>cf</td>\n",
       "      <td>Male</td>\n",
       "      <td>nopre</td>\n",
       "      <td>type1</td>\n",
       "      <td>p4</td>\n",
       "      <td>l1</td>\n",
       "      <td>nopc</td>\n",
       "      <td>nob/c</td>\n",
       "      <td>...</td>\n",
       "      <td>EXP</td>\n",
       "      <td>587</td>\n",
       "      <td>CIB</td>\n",
       "      <td>45-54</td>\n",
       "      <td>not_inst</td>\n",
       "      <td>69.376900</td>\n",
       "      <td>North</td>\n",
       "      <td>direct</td>\n",
       "      <td>0</td>\n",
       "      <td>42.0</td>\n",
       "    </tr>\n",
       "    <tr>\n",
       "      <th>4</th>\n",
       "      <td>24894</td>\n",
       "      <td>2019</td>\n",
       "      <td>cf</td>\n",
       "      <td>Joint</td>\n",
       "      <td>pre</td>\n",
       "      <td>type1</td>\n",
       "      <td>p1</td>\n",
       "      <td>l1</td>\n",
       "      <td>nopc</td>\n",
       "      <td>nob/c</td>\n",
       "      <td>...</td>\n",
       "      <td>CRIF</td>\n",
       "      <td>602</td>\n",
       "      <td>EXP</td>\n",
       "      <td>25-34</td>\n",
       "      <td>not_inst</td>\n",
       "      <td>91.886544</td>\n",
       "      <td>North</td>\n",
       "      <td>direct</td>\n",
       "      <td>0</td>\n",
       "      <td>39.0</td>\n",
       "    </tr>\n",
       "  </tbody>\n",
       "</table>\n",
       "<p>5 rows × 34 columns</p>\n",
       "</div>"
      ],
      "text/plain": [
       "      ID  year loan_limit             Gender approv_in_adv loan_type  \\\n",
       "0  24890  2019         cf  Sex Not Available         nopre     type1   \n",
       "1  24891  2019         cf               Male         nopre     type2   \n",
       "2  24892  2019         cf               Male           pre     type1   \n",
       "3  24893  2019         cf               Male         nopre     type1   \n",
       "4  24894  2019         cf              Joint           pre     type1   \n",
       "\n",
       "  loan_purpose Credit_Worthiness open_credit business_or_commercial  ...  \\\n",
       "0           p1                l1        nopc                  nob/c  ...   \n",
       "1           p1                l1        nopc                    b/c  ...   \n",
       "2           p1                l1        nopc                  nob/c  ...   \n",
       "3           p4                l1        nopc                  nob/c  ...   \n",
       "4           p1                l1        nopc                  nob/c  ...   \n",
       "\n",
       "   credit_type  Credit_Score  co-applicant_credit_type    age  \\\n",
       "0          EXP           758                       CIB  25-34   \n",
       "1         EQUI           552                       EXP  55-64   \n",
       "2          EXP           834                       CIB  35-44   \n",
       "3          EXP           587                       CIB  45-54   \n",
       "4         CRIF           602                       EXP  25-34   \n",
       "\n",
       "   submission_of_application        LTV Region Security_Type  Status dtir1  \n",
       "0                    to_inst  98.728814  south        direct       1  45.0  \n",
       "1                    to_inst        NaN  North        direct       1   NaN  \n",
       "2                    to_inst  80.019685  south        direct       0  46.0  \n",
       "3                   not_inst  69.376900  North        direct       0  42.0  \n",
       "4                   not_inst  91.886544  North        direct       0  39.0  \n",
       "\n",
       "[5 rows x 34 columns]"
      ]
     },
     "execution_count": 4,
     "metadata": {},
     "output_type": "execute_result"
    }
   ],
   "source": [
    "df.head()"
   ]
  },
  {
   "cell_type": "code",
   "execution_count": 5,
   "metadata": {
    "execution": {
     "iopub.execute_input": "2022-07-04T00:17:15.182497Z",
     "iopub.status.busy": "2022-07-04T00:17:15.182063Z",
     "iopub.status.idle": "2022-07-04T00:17:15.190322Z",
     "shell.execute_reply": "2022-07-04T00:17:15.189087Z",
     "shell.execute_reply.started": "2022-07-04T00:17:15.182463Z"
    }
   },
   "outputs": [
    {
     "data": {
      "text/plain": [
       "(148670, 34)"
      ]
     },
     "execution_count": 5,
     "metadata": {},
     "output_type": "execute_result"
    }
   ],
   "source": [
    "df.shape"
   ]
  },
  {
   "cell_type": "code",
   "execution_count": 6,
   "metadata": {
    "execution": {
     "iopub.execute_input": "2022-07-04T00:17:31.822122Z",
     "iopub.status.busy": "2022-07-04T00:17:31.821627Z",
     "iopub.status.idle": "2022-07-04T00:17:31.861623Z",
     "shell.execute_reply": "2022-07-04T00:17:31.860613Z",
     "shell.execute_reply.started": "2022-07-04T00:17:31.822085Z"
    }
   },
   "outputs": [
    {
     "data": {
      "text/html": [
       "<div>\n",
       "<style scoped>\n",
       "    .dataframe tbody tr th:only-of-type {\n",
       "        vertical-align: middle;\n",
       "    }\n",
       "\n",
       "    .dataframe tbody tr th {\n",
       "        vertical-align: top;\n",
       "    }\n",
       "\n",
       "    .dataframe thead th {\n",
       "        text-align: right;\n",
       "    }\n",
       "</style>\n",
       "<table border=\"1\" class=\"dataframe\">\n",
       "  <thead>\n",
       "    <tr style=\"text-align: right;\">\n",
       "      <th></th>\n",
       "      <th>ID</th>\n",
       "      <th>year</th>\n",
       "      <th>loan_limit</th>\n",
       "      <th>Gender</th>\n",
       "      <th>approv_in_adv</th>\n",
       "      <th>loan_type</th>\n",
       "      <th>loan_purpose</th>\n",
       "      <th>Credit_Worthiness</th>\n",
       "      <th>open_credit</th>\n",
       "      <th>business_or_commercial</th>\n",
       "      <th>loan_amount</th>\n",
       "      <th>rate_of_interest</th>\n",
       "      <th>Interest_rate_spread</th>\n",
       "      <th>Upfront_charges</th>\n",
       "      <th>term</th>\n",
       "      <th>Neg_ammortization</th>\n",
       "      <th>interest_only</th>\n",
       "      <th>lump_sum_payment</th>\n",
       "      <th>property_value</th>\n",
       "      <th>construction_type</th>\n",
       "      <th>occupancy_type</th>\n",
       "      <th>Secured_by</th>\n",
       "      <th>total_units</th>\n",
       "      <th>income</th>\n",
       "      <th>credit_type</th>\n",
       "      <th>Credit_Score</th>\n",
       "      <th>co-applicant_credit_type</th>\n",
       "      <th>age</th>\n",
       "      <th>submission_of_application</th>\n",
       "      <th>LTV</th>\n",
       "      <th>Region</th>\n",
       "      <th>Security_Type</th>\n",
       "      <th>Status</th>\n",
       "      <th>dtir1</th>\n",
       "    </tr>\n",
       "  </thead>\n",
       "  <tbody>\n",
       "    <tr>\n",
       "      <th>0</th>\n",
       "      <td>24890</td>\n",
       "      <td>2019</td>\n",
       "      <td>cf</td>\n",
       "      <td>Sex Not Available</td>\n",
       "      <td>nopre</td>\n",
       "      <td>type1</td>\n",
       "      <td>p1</td>\n",
       "      <td>l1</td>\n",
       "      <td>nopc</td>\n",
       "      <td>nob/c</td>\n",
       "      <td>116500</td>\n",
       "      <td>NaN</td>\n",
       "      <td>NaN</td>\n",
       "      <td>NaN</td>\n",
       "      <td>360.0</td>\n",
       "      <td>not_neg</td>\n",
       "      <td>not_int</td>\n",
       "      <td>not_lpsm</td>\n",
       "      <td>118000.0</td>\n",
       "      <td>sb</td>\n",
       "      <td>pr</td>\n",
       "      <td>home</td>\n",
       "      <td>1U</td>\n",
       "      <td>1740.0</td>\n",
       "      <td>EXP</td>\n",
       "      <td>758</td>\n",
       "      <td>CIB</td>\n",
       "      <td>25-34</td>\n",
       "      <td>to_inst</td>\n",
       "      <td>98.728814</td>\n",
       "      <td>south</td>\n",
       "      <td>direct</td>\n",
       "      <td>1</td>\n",
       "      <td>45.0</td>\n",
       "    </tr>\n",
       "    <tr>\n",
       "      <th>1</th>\n",
       "      <td>24891</td>\n",
       "      <td>2019</td>\n",
       "      <td>cf</td>\n",
       "      <td>Male</td>\n",
       "      <td>nopre</td>\n",
       "      <td>type2</td>\n",
       "      <td>p1</td>\n",
       "      <td>l1</td>\n",
       "      <td>nopc</td>\n",
       "      <td>b/c</td>\n",
       "      <td>206500</td>\n",
       "      <td>NaN</td>\n",
       "      <td>NaN</td>\n",
       "      <td>NaN</td>\n",
       "      <td>360.0</td>\n",
       "      <td>not_neg</td>\n",
       "      <td>not_int</td>\n",
       "      <td>lpsm</td>\n",
       "      <td>NaN</td>\n",
       "      <td>sb</td>\n",
       "      <td>pr</td>\n",
       "      <td>home</td>\n",
       "      <td>1U</td>\n",
       "      <td>4980.0</td>\n",
       "      <td>EQUI</td>\n",
       "      <td>552</td>\n",
       "      <td>EXP</td>\n",
       "      <td>55-64</td>\n",
       "      <td>to_inst</td>\n",
       "      <td>NaN</td>\n",
       "      <td>North</td>\n",
       "      <td>direct</td>\n",
       "      <td>1</td>\n",
       "      <td>NaN</td>\n",
       "    </tr>\n",
       "    <tr>\n",
       "      <th>2</th>\n",
       "      <td>24892</td>\n",
       "      <td>2019</td>\n",
       "      <td>cf</td>\n",
       "      <td>Male</td>\n",
       "      <td>pre</td>\n",
       "      <td>type1</td>\n",
       "      <td>p1</td>\n",
       "      <td>l1</td>\n",
       "      <td>nopc</td>\n",
       "      <td>nob/c</td>\n",
       "      <td>406500</td>\n",
       "      <td>4.56</td>\n",
       "      <td>0.2000</td>\n",
       "      <td>595.0</td>\n",
       "      <td>360.0</td>\n",
       "      <td>neg_amm</td>\n",
       "      <td>not_int</td>\n",
       "      <td>not_lpsm</td>\n",
       "      <td>508000.0</td>\n",
       "      <td>sb</td>\n",
       "      <td>pr</td>\n",
       "      <td>home</td>\n",
       "      <td>1U</td>\n",
       "      <td>9480.0</td>\n",
       "      <td>EXP</td>\n",
       "      <td>834</td>\n",
       "      <td>CIB</td>\n",
       "      <td>35-44</td>\n",
       "      <td>to_inst</td>\n",
       "      <td>80.019685</td>\n",
       "      <td>south</td>\n",
       "      <td>direct</td>\n",
       "      <td>0</td>\n",
       "      <td>46.0</td>\n",
       "    </tr>\n",
       "    <tr>\n",
       "      <th>3</th>\n",
       "      <td>24893</td>\n",
       "      <td>2019</td>\n",
       "      <td>cf</td>\n",
       "      <td>Male</td>\n",
       "      <td>nopre</td>\n",
       "      <td>type1</td>\n",
       "      <td>p4</td>\n",
       "      <td>l1</td>\n",
       "      <td>nopc</td>\n",
       "      <td>nob/c</td>\n",
       "      <td>456500</td>\n",
       "      <td>4.25</td>\n",
       "      <td>0.6810</td>\n",
       "      <td>NaN</td>\n",
       "      <td>360.0</td>\n",
       "      <td>not_neg</td>\n",
       "      <td>not_int</td>\n",
       "      <td>not_lpsm</td>\n",
       "      <td>658000.0</td>\n",
       "      <td>sb</td>\n",
       "      <td>pr</td>\n",
       "      <td>home</td>\n",
       "      <td>1U</td>\n",
       "      <td>11880.0</td>\n",
       "      <td>EXP</td>\n",
       "      <td>587</td>\n",
       "      <td>CIB</td>\n",
       "      <td>45-54</td>\n",
       "      <td>not_inst</td>\n",
       "      <td>69.376900</td>\n",
       "      <td>North</td>\n",
       "      <td>direct</td>\n",
       "      <td>0</td>\n",
       "      <td>42.0</td>\n",
       "    </tr>\n",
       "    <tr>\n",
       "      <th>4</th>\n",
       "      <td>24894</td>\n",
       "      <td>2019</td>\n",
       "      <td>cf</td>\n",
       "      <td>Joint</td>\n",
       "      <td>pre</td>\n",
       "      <td>type1</td>\n",
       "      <td>p1</td>\n",
       "      <td>l1</td>\n",
       "      <td>nopc</td>\n",
       "      <td>nob/c</td>\n",
       "      <td>696500</td>\n",
       "      <td>4.00</td>\n",
       "      <td>0.3042</td>\n",
       "      <td>0.0</td>\n",
       "      <td>360.0</td>\n",
       "      <td>not_neg</td>\n",
       "      <td>not_int</td>\n",
       "      <td>not_lpsm</td>\n",
       "      <td>758000.0</td>\n",
       "      <td>sb</td>\n",
       "      <td>pr</td>\n",
       "      <td>home</td>\n",
       "      <td>1U</td>\n",
       "      <td>10440.0</td>\n",
       "      <td>CRIF</td>\n",
       "      <td>602</td>\n",
       "      <td>EXP</td>\n",
       "      <td>25-34</td>\n",
       "      <td>not_inst</td>\n",
       "      <td>91.886544</td>\n",
       "      <td>North</td>\n",
       "      <td>direct</td>\n",
       "      <td>0</td>\n",
       "      <td>39.0</td>\n",
       "    </tr>\n",
       "  </tbody>\n",
       "</table>\n",
       "</div>"
      ],
      "text/plain": [
       "      ID  year loan_limit             Gender approv_in_adv loan_type  \\\n",
       "0  24890  2019         cf  Sex Not Available         nopre     type1   \n",
       "1  24891  2019         cf               Male         nopre     type2   \n",
       "2  24892  2019         cf               Male           pre     type1   \n",
       "3  24893  2019         cf               Male         nopre     type1   \n",
       "4  24894  2019         cf              Joint           pre     type1   \n",
       "\n",
       "  loan_purpose Credit_Worthiness open_credit business_or_commercial  \\\n",
       "0           p1                l1        nopc                  nob/c   \n",
       "1           p1                l1        nopc                    b/c   \n",
       "2           p1                l1        nopc                  nob/c   \n",
       "3           p4                l1        nopc                  nob/c   \n",
       "4           p1                l1        nopc                  nob/c   \n",
       "\n",
       "   loan_amount  rate_of_interest  Interest_rate_spread  Upfront_charges  \\\n",
       "0       116500               NaN                   NaN              NaN   \n",
       "1       206500               NaN                   NaN              NaN   \n",
       "2       406500              4.56                0.2000            595.0   \n",
       "3       456500              4.25                0.6810              NaN   \n",
       "4       696500              4.00                0.3042              0.0   \n",
       "\n",
       "    term Neg_ammortization interest_only lump_sum_payment  property_value  \\\n",
       "0  360.0           not_neg       not_int         not_lpsm        118000.0   \n",
       "1  360.0           not_neg       not_int             lpsm             NaN   \n",
       "2  360.0           neg_amm       not_int         not_lpsm        508000.0   \n",
       "3  360.0           not_neg       not_int         not_lpsm        658000.0   \n",
       "4  360.0           not_neg       not_int         not_lpsm        758000.0   \n",
       "\n",
       "  construction_type occupancy_type Secured_by total_units   income  \\\n",
       "0                sb             pr       home          1U   1740.0   \n",
       "1                sb             pr       home          1U   4980.0   \n",
       "2                sb             pr       home          1U   9480.0   \n",
       "3                sb             pr       home          1U  11880.0   \n",
       "4                sb             pr       home          1U  10440.0   \n",
       "\n",
       "  credit_type  Credit_Score co-applicant_credit_type    age  \\\n",
       "0         EXP           758                      CIB  25-34   \n",
       "1        EQUI           552                      EXP  55-64   \n",
       "2         EXP           834                      CIB  35-44   \n",
       "3         EXP           587                      CIB  45-54   \n",
       "4        CRIF           602                      EXP  25-34   \n",
       "\n",
       "  submission_of_application        LTV Region Security_Type  Status  dtir1  \n",
       "0                   to_inst  98.728814  south        direct       1   45.0  \n",
       "1                   to_inst        NaN  North        direct       1    NaN  \n",
       "2                   to_inst  80.019685  south        direct       0   46.0  \n",
       "3                  not_inst  69.376900  North        direct       0   42.0  \n",
       "4                  not_inst  91.886544  North        direct       0   39.0  "
      ]
     },
     "execution_count": 6,
     "metadata": {},
     "output_type": "execute_result"
    }
   ],
   "source": [
    "pd.set_option(\"display.max_columns\", df.shape[-1])  #There are 34 feature in this dataset and DataFrame is not displaying all of them. To solve this we can set number of columns we want to display with pandas settings as shown in the cell below\n",
    "df.head(5)"
   ]
  },
  {
   "cell_type": "code",
   "execution_count": 7,
   "metadata": {
    "execution": {
     "iopub.execute_input": "2022-07-04T00:17:33.680632Z",
     "iopub.status.busy": "2022-07-04T00:17:33.679862Z",
     "iopub.status.idle": "2022-07-04T00:17:33.688794Z",
     "shell.execute_reply": "2022-07-04T00:17:33.687522Z",
     "shell.execute_reply.started": "2022-07-04T00:17:33.680594Z"
    }
   },
   "outputs": [
    {
     "data": {
      "text/plain": [
       "Index(['ID', 'year', 'loan_limit', 'Gender', 'approv_in_adv', 'loan_type',\n",
       "       'loan_purpose', 'Credit_Worthiness', 'open_credit',\n",
       "       'business_or_commercial', 'loan_amount', 'rate_of_interest',\n",
       "       'Interest_rate_spread', 'Upfront_charges', 'term', 'Neg_ammortization',\n",
       "       'interest_only', 'lump_sum_payment', 'property_value',\n",
       "       'construction_type', 'occupancy_type', 'Secured_by', 'total_units',\n",
       "       'income', 'credit_type', 'Credit_Score', 'co-applicant_credit_type',\n",
       "       'age', 'submission_of_application', 'LTV', 'Region', 'Security_Type',\n",
       "       'Status', 'dtir1'],\n",
       "      dtype='object')"
      ]
     },
     "execution_count": 7,
     "metadata": {},
     "output_type": "execute_result"
    }
   ],
   "source": [
    "df.columns"
   ]
  },
  {
   "cell_type": "code",
   "execution_count": 8,
   "metadata": {
    "execution": {
     "iopub.execute_input": "2022-07-03T22:56:46.393595Z",
     "iopub.status.busy": "2022-07-03T22:56:46.393276Z",
     "iopub.status.idle": "2022-07-03T22:56:46.398629Z",
     "shell.execute_reply": "2022-07-03T22:56:46.397857Z",
     "shell.execute_reply.started": "2022-07-03T22:56:46.39357Z"
    }
   },
   "outputs": [],
   "source": [
    "df.columns= df.columns.str.lower()"
   ]
  },
  {
   "cell_type": "code",
   "execution_count": 9,
   "metadata": {
    "execution": {
     "iopub.execute_input": "2022-07-03T22:57:24.931842Z",
     "iopub.status.busy": "2022-07-03T22:57:24.931502Z",
     "iopub.status.idle": "2022-07-03T22:57:24.940861Z",
     "shell.execute_reply": "2022-07-03T22:57:24.939425Z",
     "shell.execute_reply.started": "2022-07-03T22:57:24.931818Z"
    }
   },
   "outputs": [
    {
     "data": {
      "text/plain": [
       "Index(['id', 'year', 'loan_limit', 'gender', 'approv_in_adv', 'loan_type',\n",
       "       'loan_purpose', 'credit_worthiness', 'open_credit',\n",
       "       'business_or_commercial', 'loan_amount', 'rate_of_interest',\n",
       "       'interest_rate_spread', 'upfront_charges', 'term', 'neg_ammortization',\n",
       "       'interest_only', 'lump_sum_payment', 'property_value',\n",
       "       'construction_type', 'occupancy_type', 'secured_by', 'total_units',\n",
       "       'income', 'credit_type', 'credit_score', 'co-applicant_credit_type',\n",
       "       'age', 'submission_of_application', 'ltv', 'region', 'security_type',\n",
       "       'status', 'dtir1'],\n",
       "      dtype='object')"
      ]
     },
     "execution_count": 9,
     "metadata": {},
     "output_type": "execute_result"
    }
   ],
   "source": [
    "df.columns "
   ]
  },
  {
   "cell_type": "code",
   "execution_count": 10,
   "metadata": {
    "execution": {
     "iopub.execute_input": "2022-07-03T22:58:04.269405Z",
     "iopub.status.busy": "2022-07-03T22:58:04.269076Z",
     "iopub.status.idle": "2022-07-03T22:58:04.28455Z",
     "shell.execute_reply": "2022-07-03T22:58:04.283219Z",
     "shell.execute_reply.started": "2022-07-03T22:58:04.269381Z"
    }
   },
   "outputs": [],
   "source": [
    "# we can drpo 'id' ,'loan_limit' , 'gender' ,'approv_in_adv' ,'loan_purpose' ,'open_credit' ,'business_or_commercial'  because they don't add any valiable information \n",
    "# we can drop 'year' as it includes only one year 2019\n",
    "\n",
    "columns= ['id', 'year', 'loan_limit', 'gender', 'approv_in_adv','loan_purpose', 'credit_worthiness', 'open_credit','business_or_commercial','interest_rate_spread', 'upfront_charges', 'neg_ammortization','interest_only', 'lump_sum_payment','construction_type', 'occupancy_type', 'secured_by', 'total_units','credit_type', 'co-applicant_credit_type','submission_of_application', 'ltv', 'region', 'security_type']\n",
    "df.drop(columns,axis=1, inplace =True)"
   ]
  },
  {
   "cell_type": "code",
   "execution_count": 11,
   "metadata": {
    "execution": {
     "iopub.execute_input": "2022-07-03T22:58:11.347399Z",
     "iopub.status.busy": "2022-07-03T22:58:11.347046Z",
     "iopub.status.idle": "2022-07-03T22:58:11.353749Z",
     "shell.execute_reply": "2022-07-03T22:58:11.353092Z",
     "shell.execute_reply.started": "2022-07-03T22:58:11.34737Z"
    }
   },
   "outputs": [
    {
     "data": {
      "text/plain": [
       "Index(['loan_type', 'loan_amount', 'rate_of_interest', 'term',\n",
       "       'property_value', 'income', 'credit_score', 'age', 'status', 'dtir1'],\n",
       "      dtype='object')"
      ]
     },
     "execution_count": 11,
     "metadata": {},
     "output_type": "execute_result"
    }
   ],
   "source": [
    "df.columns"
   ]
  },
  {
   "cell_type": "code",
   "execution_count": 12,
   "metadata": {
    "execution": {
     "iopub.execute_input": "2022-07-03T22:58:18.183554Z",
     "iopub.status.busy": "2022-07-03T22:58:18.183182Z",
     "iopub.status.idle": "2022-07-03T22:58:18.190629Z",
     "shell.execute_reply": "2022-07-03T22:58:18.189637Z",
     "shell.execute_reply.started": "2022-07-03T22:58:18.183525Z"
    }
   },
   "outputs": [
    {
     "data": {
      "text/plain": [
       "(148670, 10)"
      ]
     },
     "execution_count": 12,
     "metadata": {},
     "output_type": "execute_result"
    }
   ],
   "source": [
    "df.shape"
   ]
  },
  {
   "cell_type": "code",
   "execution_count": 13,
   "metadata": {
    "execution": {
     "iopub.execute_input": "2022-07-03T22:58:30.806975Z",
     "iopub.status.busy": "2022-07-03T22:58:30.806428Z",
     "iopub.status.idle": "2022-07-03T22:58:30.822072Z",
     "shell.execute_reply": "2022-07-03T22:58:30.820742Z",
     "shell.execute_reply.started": "2022-07-03T22:58:30.806938Z"
    }
   },
   "outputs": [
    {
     "data": {
      "text/html": [
       "<div>\n",
       "<style scoped>\n",
       "    .dataframe tbody tr th:only-of-type {\n",
       "        vertical-align: middle;\n",
       "    }\n",
       "\n",
       "    .dataframe tbody tr th {\n",
       "        vertical-align: top;\n",
       "    }\n",
       "\n",
       "    .dataframe thead th {\n",
       "        text-align: right;\n",
       "    }\n",
       "</style>\n",
       "<table border=\"1\" class=\"dataframe\">\n",
       "  <thead>\n",
       "    <tr style=\"text-align: right;\">\n",
       "      <th></th>\n",
       "      <th>loan_type</th>\n",
       "      <th>loan_amount</th>\n",
       "      <th>rate_of_interest</th>\n",
       "      <th>term</th>\n",
       "      <th>property_value</th>\n",
       "      <th>income</th>\n",
       "      <th>credit_score</th>\n",
       "      <th>age</th>\n",
       "      <th>status</th>\n",
       "      <th>dtir1</th>\n",
       "    </tr>\n",
       "  </thead>\n",
       "  <tbody>\n",
       "    <tr>\n",
       "      <th>0</th>\n",
       "      <td>type1</td>\n",
       "      <td>116500</td>\n",
       "      <td>NaN</td>\n",
       "      <td>360.0</td>\n",
       "      <td>118000.0</td>\n",
       "      <td>1740.0</td>\n",
       "      <td>758</td>\n",
       "      <td>25-34</td>\n",
       "      <td>1</td>\n",
       "      <td>45.0</td>\n",
       "    </tr>\n",
       "    <tr>\n",
       "      <th>1</th>\n",
       "      <td>type2</td>\n",
       "      <td>206500</td>\n",
       "      <td>NaN</td>\n",
       "      <td>360.0</td>\n",
       "      <td>NaN</td>\n",
       "      <td>4980.0</td>\n",
       "      <td>552</td>\n",
       "      <td>55-64</td>\n",
       "      <td>1</td>\n",
       "      <td>NaN</td>\n",
       "    </tr>\n",
       "    <tr>\n",
       "      <th>2</th>\n",
       "      <td>type1</td>\n",
       "      <td>406500</td>\n",
       "      <td>4.56</td>\n",
       "      <td>360.0</td>\n",
       "      <td>508000.0</td>\n",
       "      <td>9480.0</td>\n",
       "      <td>834</td>\n",
       "      <td>35-44</td>\n",
       "      <td>0</td>\n",
       "      <td>46.0</td>\n",
       "    </tr>\n",
       "    <tr>\n",
       "      <th>3</th>\n",
       "      <td>type1</td>\n",
       "      <td>456500</td>\n",
       "      <td>4.25</td>\n",
       "      <td>360.0</td>\n",
       "      <td>658000.0</td>\n",
       "      <td>11880.0</td>\n",
       "      <td>587</td>\n",
       "      <td>45-54</td>\n",
       "      <td>0</td>\n",
       "      <td>42.0</td>\n",
       "    </tr>\n",
       "    <tr>\n",
       "      <th>4</th>\n",
       "      <td>type1</td>\n",
       "      <td>696500</td>\n",
       "      <td>4.00</td>\n",
       "      <td>360.0</td>\n",
       "      <td>758000.0</td>\n",
       "      <td>10440.0</td>\n",
       "      <td>602</td>\n",
       "      <td>25-34</td>\n",
       "      <td>0</td>\n",
       "      <td>39.0</td>\n",
       "    </tr>\n",
       "  </tbody>\n",
       "</table>\n",
       "</div>"
      ],
      "text/plain": [
       "  loan_type  loan_amount  rate_of_interest   term  property_value   income  \\\n",
       "0     type1       116500               NaN  360.0        118000.0   1740.0   \n",
       "1     type2       206500               NaN  360.0             NaN   4980.0   \n",
       "2     type1       406500              4.56  360.0        508000.0   9480.0   \n",
       "3     type1       456500              4.25  360.0        658000.0  11880.0   \n",
       "4     type1       696500              4.00  360.0        758000.0  10440.0   \n",
       "\n",
       "   credit_score    age  status  dtir1  \n",
       "0           758  25-34       1   45.0  \n",
       "1           552  55-64       1    NaN  \n",
       "2           834  35-44       0   46.0  \n",
       "3           587  45-54       0   42.0  \n",
       "4           602  25-34       0   39.0  "
      ]
     },
     "execution_count": 13,
     "metadata": {},
     "output_type": "execute_result"
    }
   ],
   "source": [
    "pd.set_option(\"display.max_columns\", df.shape[-1]) \n",
    "df.head()"
   ]
  },
  {
   "cell_type": "code",
   "execution_count": 14,
   "metadata": {
    "execution": {
     "iopub.execute_input": "2022-07-03T22:58:37.435457Z",
     "iopub.status.busy": "2022-07-03T22:58:37.434691Z",
     "iopub.status.idle": "2022-07-03T22:58:37.442014Z",
     "shell.execute_reply": "2022-07-03T22:58:37.440819Z",
     "shell.execute_reply.started": "2022-07-03T22:58:37.435431Z"
    }
   },
   "outputs": [
    {
     "data": {
      "text/plain": [
       "(148670, 10)"
      ]
     },
     "execution_count": 14,
     "metadata": {},
     "output_type": "execute_result"
    }
   ],
   "source": [
    "df.shape"
   ]
  },
  {
   "cell_type": "markdown",
   "metadata": {
    "execution": {
     "iopub.execute_input": "2022-07-03T22:58:42.244041Z",
     "iopub.status.busy": "2022-07-03T22:58:42.243646Z",
     "iopub.status.idle": "2022-07-03T22:58:42.249128Z",
     "shell.execute_reply": "2022-07-03T22:58:42.248283Z",
     "shell.execute_reply.started": "2022-07-03T22:58:42.244012Z"
    }
   },
   "source": []
  },
  {
   "cell_type": "code",
   "execution_count": 15,
   "metadata": {
    "execution": {
     "iopub.execute_input": "2022-07-03T22:58:49.518003Z",
     "iopub.status.busy": "2022-07-03T22:58:49.517516Z",
     "iopub.status.idle": "2022-07-03T22:58:49.591266Z",
     "shell.execute_reply": "2022-07-03T22:58:49.590075Z",
     "shell.execute_reply.started": "2022-07-03T22:58:49.517971Z"
    }
   },
   "outputs": [
    {
     "data": {
      "text/plain": [
       "6"
      ]
     },
     "execution_count": 15,
     "metadata": {},
     "output_type": "execute_result"
    }
   ],
   "source": [
    "df.duplicated().sum() ## Checking for duplicates "
   ]
  },
  {
   "cell_type": "code",
   "execution_count": 16,
   "metadata": {
    "execution": {
     "iopub.execute_input": "2022-07-03T22:58:53.253821Z",
     "iopub.status.busy": "2022-07-03T22:58:53.253495Z",
     "iopub.status.idle": "2022-07-03T22:58:53.310034Z",
     "shell.execute_reply": "2022-07-03T22:58:53.308764Z",
     "shell.execute_reply.started": "2022-07-03T22:58:53.253797Z"
    }
   },
   "outputs": [],
   "source": [
    "df.drop_duplicates(inplace=True)"
   ]
  },
  {
   "cell_type": "code",
   "execution_count": 17,
   "metadata": {
    "execution": {
     "iopub.execute_input": "2022-07-03T22:58:59.288795Z",
     "iopub.status.busy": "2022-07-03T22:58:59.288441Z",
     "iopub.status.idle": "2022-07-03T22:58:59.339056Z",
     "shell.execute_reply": "2022-07-03T22:58:59.337489Z",
     "shell.execute_reply.started": "2022-07-03T22:58:59.288754Z"
    }
   },
   "outputs": [
    {
     "data": {
      "text/plain": [
       "0"
      ]
     },
     "execution_count": 17,
     "metadata": {},
     "output_type": "execute_result"
    }
   ],
   "source": [
    "df.duplicated().sum()"
   ]
  },
  {
   "cell_type": "code",
   "execution_count": 18,
   "metadata": {
    "execution": {
     "iopub.execute_input": "2022-07-03T22:59:04.046592Z",
     "iopub.status.busy": "2022-07-03T22:59:04.045356Z",
     "iopub.status.idle": "2022-07-03T22:59:04.053166Z",
     "shell.execute_reply": "2022-07-03T22:59:04.051996Z",
     "shell.execute_reply.started": "2022-07-03T22:59:04.046557Z"
    }
   },
   "outputs": [
    {
     "data": {
      "text/plain": [
       "(148664, 10)"
      ]
     },
     "execution_count": 18,
     "metadata": {},
     "output_type": "execute_result"
    }
   ],
   "source": [
    "df.shape"
   ]
  },
  {
   "cell_type": "code",
   "execution_count": 19,
   "metadata": {
    "execution": {
     "iopub.execute_input": "2022-07-03T22:59:15.834242Z",
     "iopub.status.busy": "2022-07-03T22:59:15.83312Z",
     "iopub.status.idle": "2022-07-03T22:59:15.875279Z",
     "shell.execute_reply": "2022-07-03T22:59:15.874143Z",
     "shell.execute_reply.started": "2022-07-03T22:59:15.834183Z"
    }
   },
   "outputs": [
    {
     "data": {
      "text/plain": [
       "loan_type               0\n",
       "loan_amount             0\n",
       "rate_of_interest    36437\n",
       "term                   41\n",
       "property_value      15096\n",
       "income               9146\n",
       "credit_score            0\n",
       "age                   200\n",
       "status                  0\n",
       "dtir1               24115\n",
       "dtype: int64"
      ]
     },
     "execution_count": 19,
     "metadata": {},
     "output_type": "execute_result"
    }
   ],
   "source": [
    "df.isna().sum() # Checking for Nan values "
   ]
  },
  {
   "cell_type": "code",
   "execution_count": 20,
   "metadata": {
    "execution": {
     "iopub.execute_input": "2022-07-03T22:59:25.90865Z",
     "iopub.status.busy": "2022-07-03T22:59:25.908333Z",
     "iopub.status.idle": "2022-07-03T22:59:25.939604Z",
     "shell.execute_reply": "2022-07-03T22:59:25.938443Z",
     "shell.execute_reply.started": "2022-07-03T22:59:25.908626Z"
    }
   },
   "outputs": [
    {
     "name": "stdout",
     "output_type": "stream",
     "text": [
      "<class 'pandas.core.frame.DataFrame'>\n",
      "Int64Index: 148664 entries, 0 to 148669\n",
      "Data columns (total 10 columns):\n",
      " #   Column            Non-Null Count   Dtype  \n",
      "---  ------            --------------   -----  \n",
      " 0   loan_type         148664 non-null  object \n",
      " 1   loan_amount       148664 non-null  int64  \n",
      " 2   rate_of_interest  112227 non-null  float64\n",
      " 3   term              148623 non-null  float64\n",
      " 4   property_value    133568 non-null  float64\n",
      " 5   income            139518 non-null  float64\n",
      " 6   credit_score      148664 non-null  int64  \n",
      " 7   age               148464 non-null  object \n",
      " 8   status            148664 non-null  int64  \n",
      " 9   dtir1             124549 non-null  float64\n",
      "dtypes: float64(5), int64(3), object(2)\n",
      "memory usage: 12.5+ MB\n"
     ]
    }
   ],
   "source": [
    "df.info()"
   ]
  },
  {
   "cell_type": "markdown",
   "metadata": {
    "execution": {
     "iopub.execute_input": "2022-07-03T22:59:30.528047Z",
     "iopub.status.busy": "2022-07-03T22:59:30.527712Z",
     "iopub.status.idle": "2022-07-03T22:59:30.531967Z",
     "shell.execute_reply": "2022-07-03T22:59:30.531188Z",
     "shell.execute_reply.started": "2022-07-03T22:59:30.528023Z"
    }
   },
   "source": [
    "### Filling Null values with mode"
   ]
  },
  {
   "cell_type": "code",
   "execution_count": 21,
   "metadata": {
    "execution": {
     "iopub.execute_input": "2022-07-03T22:59:43.757579Z",
     "iopub.status.busy": "2022-07-03T22:59:43.757223Z",
     "iopub.status.idle": "2022-07-03T22:59:43.795607Z",
     "shell.execute_reply": "2022-07-03T22:59:43.794831Z",
     "shell.execute_reply.started": "2022-07-03T22:59:43.75755Z"
    }
   },
   "outputs": [],
   "source": [
    "from sklearn.impute import SimpleImputer\n",
    "imputer = SimpleImputer()\n",
    "df[['rate_of_interest', 'term','property_value','income','dtir1']] = imputer.fit_transform(df[['rate_of_interest', 'term','property_value','income','dtir1']])"
   ]
  },
  {
   "cell_type": "code",
   "execution_count": 22,
   "metadata": {
    "execution": {
     "iopub.execute_input": "2022-07-03T22:59:58.687014Z",
     "iopub.status.busy": "2022-07-03T22:59:58.68665Z",
     "iopub.status.idle": "2022-07-03T22:59:58.732096Z",
     "shell.execute_reply": "2022-07-03T22:59:58.730988Z",
     "shell.execute_reply.started": "2022-07-03T22:59:58.686986Z"
    }
   },
   "outputs": [],
   "source": [
    "from sklearn.impute import SimpleImputer\n",
    "imputer = SimpleImputer(strategy='most_frequent')\n",
    "df[['age']] = imputer.fit_transform(df[['age']])"
   ]
  },
  {
   "cell_type": "code",
   "execution_count": 23,
   "metadata": {
    "execution": {
     "iopub.execute_input": "2022-07-03T23:00:07.978894Z",
     "iopub.status.busy": "2022-07-03T23:00:07.978571Z",
     "iopub.status.idle": "2022-07-03T23:00:08.001154Z",
     "shell.execute_reply": "2022-07-03T23:00:07.99984Z",
     "shell.execute_reply.started": "2022-07-03T23:00:07.97887Z"
    }
   },
   "outputs": [
    {
     "data": {
      "text/plain": [
       "loan_type           0\n",
       "loan_amount         0\n",
       "rate_of_interest    0\n",
       "term                0\n",
       "property_value      0\n",
       "income              0\n",
       "credit_score        0\n",
       "age                 0\n",
       "status              0\n",
       "dtir1               0\n",
       "dtype: int64"
      ]
     },
     "execution_count": 23,
     "metadata": {},
     "output_type": "execute_result"
    }
   ],
   "source": [
    "df.isna().sum()"
   ]
  },
  {
   "cell_type": "markdown",
   "metadata": {
    "execution": {
     "iopub.execute_input": "2022-07-03T23:00:14.00191Z",
     "iopub.status.busy": "2022-07-03T23:00:14.001579Z",
     "iopub.status.idle": "2022-07-03T23:00:14.006597Z",
     "shell.execute_reply": "2022-07-03T23:00:14.005665Z",
     "shell.execute_reply.started": "2022-07-03T23:00:14.001886Z"
    }
   },
   "source": [
    "# Some Characteristics of data & Visualization"
   ]
  },
  {
   "cell_type": "code",
   "execution_count": 24,
   "metadata": {
    "execution": {
     "iopub.execute_input": "2022-07-03T23:00:18.779957Z",
     "iopub.status.busy": "2022-07-03T23:00:18.779588Z",
     "iopub.status.idle": "2022-07-03T23:00:18.787249Z",
     "shell.execute_reply": "2022-07-03T23:00:18.786018Z",
     "shell.execute_reply.started": "2022-07-03T23:00:18.779927Z"
    }
   },
   "outputs": [
    {
     "data": {
      "text/plain": [
       "Index(['loan_type', 'loan_amount', 'rate_of_interest', 'term',\n",
       "       'property_value', 'income', 'credit_score', 'age', 'status', 'dtir1'],\n",
       "      dtype='object')"
      ]
     },
     "execution_count": 24,
     "metadata": {},
     "output_type": "execute_result"
    }
   ],
   "source": [
    "df.columns"
   ]
  },
  {
   "cell_type": "code",
   "execution_count": 25,
   "metadata": {
    "execution": {
     "iopub.execute_input": "2022-07-03T23:00:23.847131Z",
     "iopub.status.busy": "2022-07-03T23:00:23.846731Z",
     "iopub.status.idle": "2022-07-03T23:00:23.877861Z",
     "shell.execute_reply": "2022-07-03T23:00:23.876736Z",
     "shell.execute_reply.started": "2022-07-03T23:00:23.847101Z"
    }
   },
   "outputs": [
    {
     "data": {
      "text/plain": [
       "'type3'"
      ]
     },
     "execution_count": 25,
     "metadata": {},
     "output_type": "execute_result"
    }
   ],
   "source": [
    "df['loan_type'].max()"
   ]
  },
  {
   "cell_type": "code",
   "execution_count": 26,
   "metadata": {
    "execution": {
     "iopub.execute_input": "2022-07-03T23:00:28.116688Z",
     "iopub.status.busy": "2022-07-03T23:00:28.11565Z",
     "iopub.status.idle": "2022-07-03T23:00:28.133963Z",
     "shell.execute_reply": "2022-07-03T23:00:28.13309Z",
     "shell.execute_reply.started": "2022-07-03T23:00:28.116633Z"
    }
   },
   "outputs": [
    {
     "data": {
      "text/plain": [
       "'type1'"
      ]
     },
     "execution_count": 26,
     "metadata": {},
     "output_type": "execute_result"
    }
   ],
   "source": [
    "df['loan_type'].min()"
   ]
  },
  {
   "cell_type": "code",
   "execution_count": 27,
   "metadata": {
    "execution": {
     "iopub.execute_input": "2022-07-03T23:00:33.02787Z",
     "iopub.status.busy": "2022-07-03T23:00:33.027562Z",
     "iopub.status.idle": "2022-07-03T23:00:33.035062Z",
     "shell.execute_reply": "2022-07-03T23:00:33.033828Z",
     "shell.execute_reply.started": "2022-07-03T23:00:33.027846Z"
    }
   },
   "outputs": [
    {
     "data": {
      "text/plain": [
       "3576500"
      ]
     },
     "execution_count": 27,
     "metadata": {},
     "output_type": "execute_result"
    }
   ],
   "source": [
    "df['loan_amount'].max()"
   ]
  },
  {
   "cell_type": "code",
   "execution_count": 28,
   "metadata": {
    "execution": {
     "iopub.execute_input": "2022-07-03T23:00:39.766746Z",
     "iopub.status.busy": "2022-07-03T23:00:39.766398Z",
     "iopub.status.idle": "2022-07-03T23:00:39.775627Z",
     "shell.execute_reply": "2022-07-03T23:00:39.774316Z",
     "shell.execute_reply.started": "2022-07-03T23:00:39.766719Z"
    }
   },
   "outputs": [
    {
     "data": {
      "text/plain": [
       "16500"
      ]
     },
     "execution_count": 28,
     "metadata": {},
     "output_type": "execute_result"
    }
   ],
   "source": [
    "df['loan_amount'].min()"
   ]
  },
  {
   "cell_type": "code",
   "execution_count": 29,
   "metadata": {
    "execution": {
     "iopub.execute_input": "2022-07-03T23:00:43.680557Z",
     "iopub.status.busy": "2022-07-03T23:00:43.680167Z",
     "iopub.status.idle": "2022-07-03T23:00:43.712692Z",
     "shell.execute_reply": "2022-07-03T23:00:43.711831Z",
     "shell.execute_reply.started": "2022-07-03T23:00:43.680527Z"
    }
   },
   "outputs": [
    {
     "data": {
      "text/plain": [
       "45-54    34919\n",
       "35-44    32815\n",
       "55-64    32533\n",
       "65-74    20744\n",
       "25-34    19141\n",
       ">74       7175\n",
       "<25       1337\n",
       "Name: age, dtype: int64"
      ]
     },
     "execution_count": 29,
     "metadata": {},
     "output_type": "execute_result"
    }
   ],
   "source": [
    "df['age'].value_counts()"
   ]
  },
  {
   "cell_type": "code",
   "execution_count": 30,
   "metadata": {
    "execution": {
     "iopub.execute_input": "2022-07-03T23:00:48.647492Z",
     "iopub.status.busy": "2022-07-03T23:00:48.647175Z",
     "iopub.status.idle": "2022-07-03T23:00:48.655717Z",
     "shell.execute_reply": "2022-07-03T23:00:48.65484Z",
     "shell.execute_reply.started": "2022-07-03T23:00:48.647469Z"
    }
   },
   "outputs": [
    {
     "data": {
      "text/plain": [
       "8.0"
      ]
     },
     "execution_count": 30,
     "metadata": {},
     "output_type": "execute_result"
    }
   ],
   "source": [
    "df['rate_of_interest'].max()"
   ]
  },
  {
   "cell_type": "code",
   "execution_count": 31,
   "metadata": {
    "execution": {
     "iopub.execute_input": "2022-07-03T23:00:55.30696Z",
     "iopub.status.busy": "2022-07-03T23:00:55.306607Z",
     "iopub.status.idle": "2022-07-03T23:00:55.314623Z",
     "shell.execute_reply": "2022-07-03T23:00:55.313767Z",
     "shell.execute_reply.started": "2022-07-03T23:00:55.306934Z"
    }
   },
   "outputs": [
    {
     "data": {
      "text/plain": [
       "0.0"
      ]
     },
     "execution_count": 31,
     "metadata": {},
     "output_type": "execute_result"
    }
   ],
   "source": [
    "df['rate_of_interest'].min()     #!!!"
   ]
  },
  {
   "cell_type": "code",
   "execution_count": 32,
   "metadata": {
    "execution": {
     "iopub.execute_input": "2022-07-03T23:01:00.367505Z",
     "iopub.status.busy": "2022-07-03T23:01:00.367164Z",
     "iopub.status.idle": "2022-07-03T23:01:00.376848Z",
     "shell.execute_reply": "2022-07-03T23:01:00.375627Z",
     "shell.execute_reply.started": "2022-07-03T23:01:00.36748Z"
    }
   },
   "outputs": [
    {
     "data": {
      "text/plain": [
       "4.045481969581255"
      ]
     },
     "execution_count": 32,
     "metadata": {},
     "output_type": "execute_result"
    }
   ],
   "source": [
    "df['rate_of_interest'].mean()"
   ]
  },
  {
   "cell_type": "code",
   "execution_count": 33,
   "metadata": {
    "execution": {
     "iopub.execute_input": "2022-07-03T23:01:07.796145Z",
     "iopub.status.busy": "2022-07-03T23:01:07.795816Z",
     "iopub.status.idle": "2022-07-03T23:01:07.804717Z",
     "shell.execute_reply": "2022-07-03T23:01:07.803795Z",
     "shell.execute_reply.started": "2022-07-03T23:01:07.796122Z"
    }
   },
   "outputs": [
    {
     "data": {
      "text/plain": [
       "0    112027\n",
       "1     36637\n",
       "Name: status, dtype: int64"
      ]
     },
     "execution_count": 33,
     "metadata": {},
     "output_type": "execute_result"
    }
   ],
   "source": [
    "df['status'].value_counts()\n",
    "\n",
    "# large NO of applications are not eligable to loan "
   ]
  },
  {
   "cell_type": "code",
   "execution_count": 34,
   "metadata": {
    "execution": {
     "iopub.execute_input": "2022-07-03T23:01:12.495188Z",
     "iopub.status.busy": "2022-07-03T23:01:12.49486Z",
     "iopub.status.idle": "2022-07-03T23:01:12.528322Z",
     "shell.execute_reply": "2022-07-03T23:01:12.527423Z",
     "shell.execute_reply.started": "2022-07-03T23:01:12.495161Z"
    }
   },
   "outputs": [
    {
     "data": {
      "text/plain": [
       "4.979002e+05    15096\n",
       "3.080000e+05     2791\n",
       "2.580000e+05     2763\n",
       "3.580000e+05     2679\n",
       "4.080000e+05     2537\n",
       "                ...  \n",
       "4.648000e+06        1\n",
       "3.878000e+06        1\n",
       "5.758000e+06        1\n",
       "2.618000e+06        1\n",
       "2.698000e+06        1\n",
       "Name: property_value, Length: 386, dtype: int64"
      ]
     },
     "execution_count": 34,
     "metadata": {},
     "output_type": "execute_result"
    }
   ],
   "source": [
    "df['property_value'].value_counts()"
   ]
  },
  {
   "cell_type": "code",
   "execution_count": 35,
   "metadata": {
    "execution": {
     "iopub.execute_input": "2022-07-03T23:01:16.713891Z",
     "iopub.status.busy": "2022-07-03T23:01:16.712649Z",
     "iopub.status.idle": "2022-07-03T23:01:16.72131Z",
     "shell.execute_reply": "2022-07-03T23:01:16.719898Z",
     "shell.execute_reply.started": "2022-07-03T23:01:16.713854Z"
    }
   },
   "outputs": [
    {
     "data": {
      "text/plain": [
       "16508000.0"
      ]
     },
     "execution_count": 35,
     "metadata": {},
     "output_type": "execute_result"
    }
   ],
   "source": [
    "df['property_value'].max()"
   ]
  },
  {
   "cell_type": "code",
   "execution_count": 36,
   "metadata": {
    "execution": {
     "iopub.execute_input": "2022-07-03T23:01:20.239056Z",
     "iopub.status.busy": "2022-07-03T23:01:20.238669Z",
     "iopub.status.idle": "2022-07-03T23:01:20.246321Z",
     "shell.execute_reply": "2022-07-03T23:01:20.24551Z",
     "shell.execute_reply.started": "2022-07-03T23:01:20.239027Z"
    }
   },
   "outputs": [
    {
     "data": {
      "text/plain": [
       "8000.0"
      ]
     },
     "execution_count": 36,
     "metadata": {},
     "output_type": "execute_result"
    }
   ],
   "source": [
    "df['property_value'].min()"
   ]
  },
  {
   "cell_type": "code",
   "execution_count": 37,
   "metadata": {
    "execution": {
     "iopub.execute_input": "2022-07-03T23:01:23.930925Z",
     "iopub.status.busy": "2022-07-03T23:01:23.930569Z",
     "iopub.status.idle": "2022-07-03T23:01:23.938624Z",
     "shell.execute_reply": "2022-07-03T23:01:23.93709Z",
     "shell.execute_reply.started": "2022-07-03T23:01:23.9309Z"
    }
   },
   "outputs": [
    {
     "data": {
      "text/plain": [
       "3576500"
      ]
     },
     "execution_count": 37,
     "metadata": {},
     "output_type": "execute_result"
    }
   ],
   "source": [
    "df['loan_amount'].max()"
   ]
  },
  {
   "cell_type": "code",
   "execution_count": 38,
   "metadata": {
    "execution": {
     "iopub.execute_input": "2022-07-03T23:01:27.6921Z",
     "iopub.status.busy": "2022-07-03T23:01:27.691683Z",
     "iopub.status.idle": "2022-07-03T23:01:27.705168Z",
     "shell.execute_reply": "2022-07-03T23:01:27.703928Z",
     "shell.execute_reply.started": "2022-07-03T23:01:27.692069Z"
    }
   },
   "outputs": [
    {
     "data": {
      "text/plain": [
       "17114    2476500\n",
       "Name: loan_amount, dtype: int64"
      ]
     },
     "execution_count": 38,
     "metadata": {},
     "output_type": "execute_result"
    }
   ],
   "source": [
    "mask=df['property_value']==df['property_value'].max()\n",
    "df[mask]['loan_amount']"
   ]
  },
  {
   "cell_type": "code",
   "execution_count": 39,
   "metadata": {
    "execution": {
     "iopub.execute_input": "2022-07-03T23:01:31.187322Z",
     "iopub.status.busy": "2022-07-03T23:01:31.186937Z",
     "iopub.status.idle": "2022-07-03T23:01:31.19601Z",
     "shell.execute_reply": "2022-07-03T23:01:31.195128Z",
     "shell.execute_reply.started": "2022-07-03T23:01:31.187291Z"
    }
   },
   "outputs": [
    {
     "data": {
      "text/plain": [
       "62237    1\n",
       "Name: status, dtype: int64"
      ]
     },
     "execution_count": 39,
     "metadata": {},
     "output_type": "execute_result"
    }
   ],
   "source": [
    "mask = df['income']==df['income'].max()\n",
    "df[mask]['status']"
   ]
  },
  {
   "cell_type": "code",
   "execution_count": 40,
   "metadata": {
    "execution": {
     "iopub.execute_input": "2022-07-03T23:01:35.295654Z",
     "iopub.status.busy": "2022-07-03T23:01:35.295268Z",
     "iopub.status.idle": "2022-07-03T23:01:35.307315Z",
     "shell.execute_reply": "2022-07-03T23:01:35.306185Z",
     "shell.execute_reply.started": "2022-07-03T23:01:35.295625Z"
    }
   },
   "outputs": [
    {
     "data": {
      "text/plain": [
       "62237    4.045482\n",
       "Name: rate_of_interest, dtype: float64"
      ]
     },
     "execution_count": 40,
     "metadata": {},
     "output_type": "execute_result"
    }
   ],
   "source": [
    "mask = df['income']==df['income'].max()\n",
    "df[mask]['rate_of_interest']"
   ]
  },
  {
   "cell_type": "code",
   "execution_count": 41,
   "metadata": {
    "execution": {
     "iopub.execute_input": "2022-07-03T23:01:38.866024Z",
     "iopub.status.busy": "2022-07-03T23:01:38.86567Z",
     "iopub.status.idle": "2022-07-03T23:01:38.876467Z",
     "shell.execute_reply": "2022-07-03T23:01:38.875471Z",
     "shell.execute_reply.started": "2022-07-03T23:01:38.865998Z"
    }
   },
   "outputs": [
    {
     "data": {
      "text/plain": [
       "42        1\n",
       "143       1\n",
       "208       1\n",
       "301       1\n",
       "409       1\n",
       "         ..\n",
       "147632    1\n",
       "147728    1\n",
       "148163    1\n",
       "148197    1\n",
       "148349    1\n",
       "Name: status, Length: 1259, dtype: int64"
      ]
     },
     "execution_count": 41,
     "metadata": {},
     "output_type": "execute_result"
    }
   ],
   "source": [
    "mask = df['income']==df['income'].min()           #!!!\n",
    "df[mask]['status']"
   ]
  },
  {
   "cell_type": "code",
   "execution_count": 42,
   "metadata": {
    "execution": {
     "iopub.execute_input": "2022-07-03T23:01:46.714175Z",
     "iopub.status.busy": "2022-07-03T23:01:46.713807Z",
     "iopub.status.idle": "2022-07-03T23:01:46.72501Z",
     "shell.execute_reply": "2022-07-03T23:01:46.724131Z",
     "shell.execute_reply.started": "2022-07-03T23:01:46.714148Z"
    }
   },
   "outputs": [
    {
     "data": {
      "text/plain": [
       "4.045482    1251\n",
       "4.125000       2\n",
       "3.625000       1\n",
       "2.990000       1\n",
       "4.750000       1\n",
       "0.000000       1\n",
       "3.875000       1\n",
       "4.250000       1\n",
       "Name: rate_of_interest, dtype: int64"
      ]
     },
     "execution_count": 42,
     "metadata": {},
     "output_type": "execute_result"
    }
   ],
   "source": [
    "mask = df['income']==df['income'].min()\n",
    "df[mask]['rate_of_interest'].value_counts()"
   ]
  },
  {
   "cell_type": "markdown",
   "metadata": {
    "execution": {
     "iopub.execute_input": "2022-07-03T23:01:52.33702Z",
     "iopub.status.busy": "2022-07-03T23:01:52.336627Z",
     "iopub.status.idle": "2022-07-03T23:01:52.341569Z",
     "shell.execute_reply": "2022-07-03T23:01:52.340341Z",
     "shell.execute_reply.started": "2022-07-03T23:01:52.33699Z"
    }
   },
   "source": [
    "### We descoverd that there is a problem in the data must be handeled "
   ]
  },
  {
   "cell_type": "code",
   "execution_count": 43,
   "metadata": {
    "execution": {
     "iopub.execute_input": "2022-07-03T23:01:55.813803Z",
     "iopub.status.busy": "2022-07-03T23:01:55.812961Z",
     "iopub.status.idle": "2022-07-03T23:01:55.822729Z",
     "shell.execute_reply": "2022-07-03T23:01:55.822181Z",
     "shell.execute_reply.started": "2022-07-03T23:01:55.81376Z"
    }
   },
   "outputs": [
    {
     "data": {
      "text/plain": [
       "6957.392164      9146\n",
       "0.000000         1259\n",
       "3600.000000      1250\n",
       "4200.000000      1243\n",
       "4800.000000      1191\n",
       "                 ... \n",
       "45300.000000        1\n",
       "154440.000000       1\n",
       "137760.000000       1\n",
       "145560.000000       1\n",
       "79920.000000        1\n",
       "Name: income, Length: 1002, dtype: int64"
      ]
     },
     "execution_count": 43,
     "metadata": {},
     "output_type": "execute_result"
    }
   ],
   "source": [
    "df['income'].value_counts()"
   ]
  },
  {
   "cell_type": "code",
   "execution_count": 44,
   "metadata": {
    "execution": {
     "iopub.execute_input": "2022-07-03T23:02:00.143069Z",
     "iopub.status.busy": "2022-07-03T23:02:00.142601Z",
     "iopub.status.idle": "2022-07-03T23:02:00.15238Z",
     "shell.execute_reply": "2022-07-03T23:02:00.151067Z",
     "shell.execute_reply.started": "2022-07-03T23:02:00.143041Z"
    }
   },
   "outputs": [
    {
     "data": {
      "text/plain": [
       "6957.392164452585"
      ]
     },
     "execution_count": 44,
     "metadata": {},
     "output_type": "execute_result"
    }
   ],
   "source": [
    "df['income'].mean()"
   ]
  },
  {
   "cell_type": "code",
   "execution_count": 45,
   "metadata": {
    "execution": {
     "iopub.execute_input": "2022-07-03T23:02:05.102052Z",
     "iopub.status.busy": "2022-07-03T23:02:05.101626Z",
     "iopub.status.idle": "2022-07-03T23:02:05.108419Z",
     "shell.execute_reply": "2022-07-03T23:02:05.107163Z",
     "shell.execute_reply.started": "2022-07-03T23:02:05.102018Z"
    }
   },
   "outputs": [],
   "source": [
    "mask=df['income']<2000"
   ]
  },
  {
   "cell_type": "code",
   "execution_count": 46,
   "metadata": {
    "execution": {
     "iopub.execute_input": "2022-07-03T23:02:08.574901Z",
     "iopub.status.busy": "2022-07-03T23:02:08.574502Z",
     "iopub.status.idle": "2022-07-03T23:02:08.583934Z",
     "shell.execute_reply": "2022-07-03T23:02:08.582863Z",
     "shell.execute_reply.started": "2022-07-03T23:02:08.574865Z"
    }
   },
   "outputs": [
    {
     "data": {
      "text/plain": [
       "False    140706\n",
       "True       7958\n",
       "Name: income, dtype: int64"
      ]
     },
     "execution_count": 46,
     "metadata": {},
     "output_type": "execute_result"
    }
   ],
   "source": [
    "mask.value_counts()            # there is income less than 2000"
   ]
  },
  {
   "cell_type": "code",
   "execution_count": null,
   "metadata": {
    "execution": {
     "iopub.execute_input": "2022-07-03T23:02:12.293556Z",
     "iopub.status.busy": "2022-07-03T23:02:12.293177Z",
     "iopub.status.idle": "2022-07-03T23:02:51.593593Z",
     "shell.execute_reply": "2022-07-03T23:02:51.591971Z",
     "shell.execute_reply.started": "2022-07-03T23:02:12.293527Z"
    }
   },
   "outputs": [],
   "source": [
    "df['income']=df['income'].apply(lambda x: x if x not in mask else df['income'].mean())"
   ]
  },
  {
   "cell_type": "code",
   "execution_count": null,
   "metadata": {
    "execution": {
     "iopub.execute_input": "2022-07-03T23:02:51.596653Z",
     "iopub.status.busy": "2022-07-03T23:02:51.596253Z",
     "iopub.status.idle": "2022-07-03T23:02:51.608384Z",
     "shell.execute_reply": "2022-07-03T23:02:51.607253Z",
     "shell.execute_reply.started": "2022-07-03T23:02:51.596622Z"
    }
   },
   "outputs": [],
   "source": [
    "mask=df['income']<2000\n",
    "mask.value_counts()"
   ]
  },
  {
   "cell_type": "code",
   "execution_count": null,
   "metadata": {
    "execution": {
     "iopub.execute_input": "2022-07-03T23:02:51.610973Z",
     "iopub.status.busy": "2022-07-03T23:02:51.610465Z",
     "iopub.status.idle": "2022-07-03T23:02:51.621352Z",
     "shell.execute_reply": "2022-07-03T23:02:51.619938Z",
     "shell.execute_reply.started": "2022-07-03T23:02:51.610931Z"
    }
   },
   "outputs": [],
   "source": [
    "df['income'].min()"
   ]
  },
  {
   "cell_type": "code",
   "execution_count": null,
   "metadata": {
    "execution": {
     "iopub.execute_input": "2022-07-03T23:02:51.624663Z",
     "iopub.status.busy": "2022-07-03T23:02:51.624247Z",
     "iopub.status.idle": "2022-07-03T23:02:51.63702Z",
     "shell.execute_reply": "2022-07-03T23:02:51.636095Z",
     "shell.execute_reply.started": "2022-07-03T23:02:51.624615Z"
    }
   },
   "outputs": [],
   "source": [
    "df['rate_of_interest'].value_counts()"
   ]
  },
  {
   "cell_type": "code",
   "execution_count": null,
   "metadata": {
    "execution": {
     "iopub.execute_input": "2022-07-03T23:02:51.639246Z",
     "iopub.status.busy": "2022-07-03T23:02:51.638754Z",
     "iopub.status.idle": "2022-07-03T23:02:51.653624Z",
     "shell.execute_reply": "2022-07-03T23:02:51.652318Z",
     "shell.execute_reply.started": "2022-07-03T23:02:51.639219Z"
    }
   },
   "outputs": [],
   "source": [
    "df['rate_of_interest'].min()      # interest rate shall not be zero"
   ]
  },
  {
   "cell_type": "code",
   "execution_count": null,
   "metadata": {
    "execution": {
     "iopub.execute_input": "2022-07-03T23:02:51.658216Z",
     "iopub.status.busy": "2022-07-03T23:02:51.655381Z",
     "iopub.status.idle": "2022-07-03T23:02:51.667953Z",
     "shell.execute_reply": "2022-07-03T23:02:51.666708Z",
     "shell.execute_reply.started": "2022-07-03T23:02:51.658159Z"
    }
   },
   "outputs": [],
   "source": [
    "df['rate_of_interest'].mean()"
   ]
  },
  {
   "cell_type": "code",
   "execution_count": null,
   "metadata": {
    "execution": {
     "iopub.execute_input": "2022-07-03T23:02:51.670958Z",
     "iopub.status.busy": "2022-07-03T23:02:51.670191Z",
     "iopub.status.idle": "2022-07-03T23:02:51.680673Z",
     "shell.execute_reply": "2022-07-03T23:02:51.67926Z",
     "shell.execute_reply.started": "2022-07-03T23:02:51.670915Z"
    }
   },
   "outputs": [],
   "source": [
    "mask=df['rate_of_interest']==0\n",
    "mask.value_counts()"
   ]
  },
  {
   "cell_type": "code",
   "execution_count": null,
   "metadata": {
    "execution": {
     "iopub.execute_input": "2022-07-03T23:02:51.682348Z",
     "iopub.status.busy": "2022-07-03T23:02:51.682036Z",
     "iopub.status.idle": "2022-07-03T23:02:53.057837Z",
     "shell.execute_reply": "2022-07-03T23:02:53.057153Z",
     "shell.execute_reply.started": "2022-07-03T23:02:51.682311Z"
    }
   },
   "outputs": [],
   "source": [
    "df['rate_of_interest']=df['rate_of_interest'].apply(lambda x: x if x not in mask else df['rate_of_interest'].mean())"
   ]
  },
  {
   "cell_type": "code",
   "execution_count": null,
   "metadata": {
    "execution": {
     "iopub.execute_input": "2022-07-03T23:02:53.059509Z",
     "iopub.status.busy": "2022-07-03T23:02:53.058731Z",
     "iopub.status.idle": "2022-07-03T23:02:53.066454Z",
     "shell.execute_reply": "2022-07-03T23:02:53.065556Z",
     "shell.execute_reply.started": "2022-07-03T23:02:53.059482Z"
    }
   },
   "outputs": [],
   "source": [
    "df['rate_of_interest'].min()"
   ]
  },
  {
   "cell_type": "code",
   "execution_count": null,
   "metadata": {
    "execution": {
     "iopub.execute_input": "2022-07-03T23:03:02.433701Z",
     "iopub.status.busy": "2022-07-03T23:03:02.433343Z",
     "iopub.status.idle": "2022-07-03T23:03:02.72162Z",
     "shell.execute_reply": "2022-07-03T23:03:02.720647Z",
     "shell.execute_reply.started": "2022-07-03T23:03:02.433675Z"
    }
   },
   "outputs": [],
   "source": [
    "sns.countplot(data=df , x='loan_type')"
   ]
  },
  {
   "cell_type": "code",
   "execution_count": null,
   "metadata": {
    "execution": {
     "iopub.execute_input": "2022-07-03T23:03:06.515874Z",
     "iopub.status.busy": "2022-07-03T23:03:06.515477Z",
     "iopub.status.idle": "2022-07-03T23:03:06.650163Z",
     "shell.execute_reply": "2022-07-03T23:03:06.649435Z",
     "shell.execute_reply.started": "2022-07-03T23:03:06.515842Z"
    }
   },
   "outputs": [],
   "source": [
    "sns.countplot(data=df , x='status')"
   ]
  },
  {
   "cell_type": "code",
   "execution_count": null,
   "metadata": {
    "execution": {
     "iopub.execute_input": "2022-07-03T23:03:10.409333Z",
     "iopub.status.busy": "2022-07-03T23:03:10.409029Z",
     "iopub.status.idle": "2022-07-03T23:03:10.901335Z",
     "shell.execute_reply": "2022-07-03T23:03:10.900387Z",
     "shell.execute_reply.started": "2022-07-03T23:03:10.40931Z"
    }
   },
   "outputs": [],
   "source": [
    "sns.countplot(data=df , x='age')"
   ]
  },
  {
   "cell_type": "code",
   "execution_count": null,
   "metadata": {
    "execution": {
     "iopub.execute_input": "2022-07-03T23:03:15.606598Z",
     "iopub.status.busy": "2022-07-03T23:03:15.606266Z",
     "iopub.status.idle": "2022-07-03T23:03:21.553723Z",
     "shell.execute_reply": "2022-07-03T23:03:21.552534Z",
     "shell.execute_reply.started": "2022-07-03T23:03:15.606573Z"
    }
   },
   "outputs": [],
   "source": [
    "sns.lineplot(data=df, x=\"rate_of_interest\", y=\"income\", hue=\"status\")"
   ]
  },
  {
   "cell_type": "code",
   "execution_count": null,
   "metadata": {
    "execution": {
     "iopub.execute_input": "2022-07-03T23:03:21.555899Z",
     "iopub.status.busy": "2022-07-03T23:03:21.555553Z",
     "iopub.status.idle": "2022-07-03T23:03:22.231855Z",
     "shell.execute_reply": "2022-07-03T23:03:22.230734Z",
     "shell.execute_reply.started": "2022-07-03T23:03:21.555869Z"
    }
   },
   "outputs": [],
   "source": [
    "sns.relplot(x =\"rate_of_interest\", y =\"income\",data = df)"
   ]
  },
  {
   "cell_type": "code",
   "execution_count": null,
   "metadata": {
    "execution": {
     "iopub.execute_input": "2022-07-03T23:03:24.191957Z",
     "iopub.status.busy": "2022-07-03T23:03:24.19159Z",
     "iopub.status.idle": "2022-07-03T23:03:24.848728Z",
     "shell.execute_reply": "2022-07-03T23:03:24.847579Z",
     "shell.execute_reply.started": "2022-07-03T23:03:24.191933Z"
    }
   },
   "outputs": [],
   "source": [
    "sns.relplot(x =\"loan_amount\", y =\"income\",data = df)"
   ]
  },
  {
   "cell_type": "code",
   "execution_count": null,
   "metadata": {
    "execution": {
     "iopub.execute_input": "2022-07-03T23:03:28.066271Z",
     "iopub.status.busy": "2022-07-03T23:03:28.065947Z",
     "iopub.status.idle": "2022-07-03T23:03:35.643324Z",
     "shell.execute_reply": "2022-07-03T23:03:35.642501Z",
     "shell.execute_reply.started": "2022-07-03T23:03:28.066246Z"
    }
   },
   "outputs": [],
   "source": [
    "sns.relplot(x =\"rate_of_interest\", y =\"loan_amount\", hue='age' ,data = df)"
   ]
  },
  {
   "cell_type": "code",
   "execution_count": null,
   "metadata": {
    "execution": {
     "iopub.execute_input": "2022-07-03T23:03:35.645434Z",
     "iopub.status.busy": "2022-07-03T23:03:35.645025Z",
     "iopub.status.idle": "2022-07-03T23:03:42.77982Z",
     "shell.execute_reply": "2022-07-03T23:03:42.778821Z",
     "shell.execute_reply.started": "2022-07-03T23:03:35.645407Z"
    }
   },
   "outputs": [],
   "source": [
    "sns.relplot(x =\"rate_of_interest\", y =\"loan_amount\", hue='status' ,data = df)"
   ]
  },
  {
   "cell_type": "code",
   "execution_count": null,
   "metadata": {
    "execution": {
     "iopub.execute_input": "2022-07-03T23:03:42.782913Z",
     "iopub.status.busy": "2022-07-03T23:03:42.78265Z",
     "iopub.status.idle": "2022-07-03T23:03:43.790707Z",
     "shell.execute_reply": "2022-07-03T23:03:43.789732Z",
     "shell.execute_reply.started": "2022-07-03T23:03:42.78289Z"
    }
   },
   "outputs": [],
   "source": [
    "sns.distplot(df['loan_amount'])"
   ]
  },
  {
   "cell_type": "code",
   "execution_count": null,
   "metadata": {
    "execution": {
     "iopub.execute_input": "2022-07-03T23:03:43.792816Z",
     "iopub.status.busy": "2022-07-03T23:03:43.792511Z",
     "iopub.status.idle": "2022-07-03T23:03:45.223148Z",
     "shell.execute_reply": "2022-07-03T23:03:45.222183Z",
     "shell.execute_reply.started": "2022-07-03T23:03:43.792768Z"
    }
   },
   "outputs": [],
   "source": [
    "sns.jointplot(data=df,x='loan_amount' , y = 'income')"
   ]
  },
  {
   "cell_type": "code",
   "execution_count": null,
   "metadata": {
    "execution": {
     "iopub.execute_input": "2022-07-03T23:03:45.22512Z",
     "iopub.status.busy": "2022-07-03T23:03:45.224807Z",
     "iopub.status.idle": "2022-07-03T23:04:17.411978Z",
     "shell.execute_reply": "2022-07-03T23:04:17.409689Z",
     "shell.execute_reply.started": "2022-07-03T23:03:45.225091Z"
    }
   },
   "outputs": [],
   "source": [
    "sns.pairplot(df)"
   ]
  },
  {
   "cell_type": "code",
   "execution_count": null,
   "metadata": {
    "execution": {
     "iopub.execute_input": "2022-07-03T23:04:17.415483Z",
     "iopub.status.busy": "2022-07-03T23:04:17.414598Z",
     "iopub.status.idle": "2022-07-03T23:04:17.618939Z",
     "shell.execute_reply": "2022-07-03T23:04:17.617834Z",
     "shell.execute_reply.started": "2022-07-03T23:04:17.415416Z"
    }
   },
   "outputs": [],
   "source": [
    "sns.boxplot(data=df , x='status' , y ='loan_amount')"
   ]
  },
  {
   "cell_type": "code",
   "execution_count": null,
   "metadata": {
    "execution": {
     "iopub.execute_input": "2022-07-03T23:04:17.620494Z",
     "iopub.status.busy": "2022-07-03T23:04:17.620221Z",
     "iopub.status.idle": "2022-07-03T23:04:17.839617Z",
     "shell.execute_reply": "2022-07-03T23:04:17.838822Z",
     "shell.execute_reply.started": "2022-07-03T23:04:17.62047Z"
    }
   },
   "outputs": [],
   "source": [
    "sns.boxplot(data=df , x='status' , y ='term')"
   ]
  },
  {
   "cell_type": "code",
   "execution_count": null,
   "metadata": {
    "execution": {
     "iopub.execute_input": "2022-07-03T23:04:17.841339Z",
     "iopub.status.busy": "2022-07-03T23:04:17.841098Z",
     "iopub.status.idle": "2022-07-03T23:04:18.508401Z",
     "shell.execute_reply": "2022-07-03T23:04:18.507134Z",
     "shell.execute_reply.started": "2022-07-03T23:04:17.841317Z"
    }
   },
   "outputs": [],
   "source": [
    "sns.boxplot(data=df , x='status' , y ='income' , hue='age')"
   ]
  },
  {
   "cell_type": "code",
   "execution_count": null,
   "metadata": {
    "execution": {
     "iopub.execute_input": "2022-07-03T23:04:18.510234Z",
     "iopub.status.busy": "2022-07-03T23:04:18.509937Z",
     "iopub.status.idle": "2022-07-03T23:04:19.086218Z",
     "shell.execute_reply": "2022-07-03T23:04:19.085247Z",
     "shell.execute_reply.started": "2022-07-03T23:04:18.510205Z"
    }
   },
   "outputs": [],
   "source": [
    "sns.boxplot(data=df , x='age' , y ='credit_score' , hue='status')"
   ]
  },
  {
   "cell_type": "code",
   "execution_count": null,
   "metadata": {
    "execution": {
     "iopub.execute_input": "2022-07-03T23:04:19.087959Z",
     "iopub.status.busy": "2022-07-03T23:04:19.087666Z",
     "iopub.status.idle": "2022-07-03T23:04:19.552953Z",
     "shell.execute_reply": "2022-07-03T23:04:19.551954Z",
     "shell.execute_reply.started": "2022-07-03T23:04:19.087931Z"
    }
   },
   "outputs": [],
   "source": [
    "sns.heatmap(df.corr() , annot = True)"
   ]
  },
  {
   "cell_type": "markdown",
   "metadata": {
    "execution": {
     "iopub.execute_input": "2022-07-03T23:04:25.632935Z",
     "iopub.status.busy": "2022-07-03T23:04:25.632606Z",
     "iopub.status.idle": "2022-07-03T23:04:25.637259Z",
     "shell.execute_reply": "2022-07-03T23:04:25.636297Z",
     "shell.execute_reply.started": "2022-07-03T23:04:25.632911Z"
    }
   },
   "source": [
    "# Dealing with non numerical values "
   ]
  },
  {
   "cell_type": "markdown",
   "metadata": {
    "execution": {
     "iopub.execute_input": "2022-07-03T23:04:29.297256Z",
     "iopub.status.busy": "2022-07-03T23:04:29.296947Z",
     "iopub.status.idle": "2022-07-03T23:04:29.302258Z",
     "shell.execute_reply": "2022-07-03T23:04:29.301096Z",
     "shell.execute_reply.started": "2022-07-03T23:04:29.297232Z"
    }
   },
   "source": [
    "### All data must be numerical to be used in the machine learning model"
   ]
  },
  {
   "cell_type": "code",
   "execution_count": null,
   "metadata": {
    "execution": {
     "iopub.execute_input": "2022-07-03T23:04:33.18739Z",
     "iopub.status.busy": "2022-07-03T23:04:33.187025Z",
     "iopub.status.idle": "2022-07-03T23:04:33.231468Z",
     "shell.execute_reply": "2022-07-03T23:04:33.230145Z",
     "shell.execute_reply.started": "2022-07-03T23:04:33.187361Z"
    }
   },
   "outputs": [],
   "source": [
    "df.info()"
   ]
  },
  {
   "cell_type": "code",
   "execution_count": null,
   "metadata": {},
   "outputs": [],
   "source": [
    "df['new'] = ((df['loan_amount']/ df['property_value'])*df['rate_of_interest'])\n",
    "df['new1']=df['loan_amount']/df['credit_score']"
   ]
  },
  {
   "cell_type": "code",
   "execution_count": null,
   "metadata": {
    "execution": {
     "iopub.execute_input": "2022-07-03T23:04:37.261903Z",
     "iopub.status.busy": "2022-07-03T23:04:37.26149Z",
     "iopub.status.idle": "2022-07-03T23:04:37.309797Z",
     "shell.execute_reply": "2022-07-03T23:04:37.309148Z",
     "shell.execute_reply.started": "2022-07-03T23:04:37.261866Z"
    }
   },
   "outputs": [],
   "source": [
    "df = pd.get_dummies(df, columns=['loan_type','age'], drop_first=True)"
   ]
  },
  {
   "cell_type": "code",
   "execution_count": null,
   "metadata": {
    "execution": {
     "iopub.execute_input": "2022-07-03T23:04:41.414263Z",
     "iopub.status.busy": "2022-07-03T23:04:41.413982Z",
     "iopub.status.idle": "2022-07-03T23:04:41.439527Z",
     "shell.execute_reply": "2022-07-03T23:04:41.438601Z",
     "shell.execute_reply.started": "2022-07-03T23:04:41.41424Z"
    }
   },
   "outputs": [],
   "source": [
    "df.info()"
   ]
  },
  {
   "cell_type": "code",
   "execution_count": null,
   "metadata": {
    "execution": {
     "iopub.execute_input": "2022-07-03T23:04:47.250541Z",
     "iopub.status.busy": "2022-07-03T23:04:47.250216Z",
     "iopub.status.idle": "2022-07-03T23:04:47.2654Z",
     "shell.execute_reply": "2022-07-03T23:04:47.264296Z",
     "shell.execute_reply.started": "2022-07-03T23:04:47.250517Z"
    }
   },
   "outputs": [],
   "source": [
    "pd.set_option(\"display.max_columns\", df.shape[-1]) \n",
    "df.head()"
   ]
  },
  {
   "cell_type": "code",
   "execution_count": null,
   "metadata": {
    "execution": {
     "iopub.execute_input": "2022-07-03T23:04:53.283509Z",
     "iopub.status.busy": "2022-07-03T23:04:53.283055Z",
     "iopub.status.idle": "2022-07-03T23:04:53.289827Z",
     "shell.execute_reply": "2022-07-03T23:04:53.289203Z",
     "shell.execute_reply.started": "2022-07-03T23:04:53.283469Z"
    }
   },
   "outputs": [],
   "source": [
    "df.shape"
   ]
  },
  {
   "cell_type": "markdown",
   "metadata": {
    "execution": {
     "iopub.execute_input": "2022-07-03T23:04:58.727177Z",
     "iopub.status.busy": "2022-07-03T23:04:58.726828Z",
     "iopub.status.idle": "2022-07-03T23:04:58.73133Z",
     "shell.execute_reply": "2022-07-03T23:04:58.729865Z",
     "shell.execute_reply.started": "2022-07-03T23:04:58.727152Z"
    }
   },
   "source": [
    "# Data Split to Train and Test Sets"
   ]
  },
  {
   "cell_type": "code",
   "execution_count": null,
   "metadata": {
    "execution": {
     "iopub.execute_input": "2022-07-03T23:05:02.168993Z",
     "iopub.status.busy": "2022-07-03T23:05:02.168545Z",
     "iopub.status.idle": "2022-07-03T23:05:02.181822Z",
     "shell.execute_reply": "2022-07-03T23:05:02.18108Z",
     "shell.execute_reply.started": "2022-07-03T23:05:02.168961Z"
    }
   },
   "outputs": [],
   "source": [
    "x = df.drop('status', axis=1)\n",
    "y = df['status']"
   ]
  },
  {
   "cell_type": "code",
   "execution_count": null,
   "metadata": {
    "execution": {
     "iopub.execute_input": "2022-07-03T23:05:05.620641Z",
     "iopub.status.busy": "2022-07-03T23:05:05.620328Z",
     "iopub.status.idle": "2022-07-03T23:05:05.643962Z",
     "shell.execute_reply": "2022-07-03T23:05:05.642971Z",
     "shell.execute_reply.started": "2022-07-03T23:05:05.620618Z"
    }
   },
   "outputs": [],
   "source": [
    "x"
   ]
  },
  {
   "cell_type": "code",
   "execution_count": null,
   "metadata": {
    "execution": {
     "iopub.execute_input": "2022-07-03T23:05:09.590671Z",
     "iopub.status.busy": "2022-07-03T23:05:09.590363Z",
     "iopub.status.idle": "2022-07-03T23:05:09.598383Z",
     "shell.execute_reply": "2022-07-03T23:05:09.597643Z",
     "shell.execute_reply.started": "2022-07-03T23:05:09.590648Z"
    }
   },
   "outputs": [],
   "source": [
    "y"
   ]
  },
  {
   "cell_type": "code",
   "execution_count": null,
   "metadata": {
    "execution": {
     "iopub.execute_input": "2022-07-03T23:05:13.268473Z",
     "iopub.status.busy": "2022-07-03T23:05:13.267989Z",
     "iopub.status.idle": "2022-07-03T23:05:13.276162Z",
     "shell.execute_reply": "2022-07-03T23:05:13.275293Z",
     "shell.execute_reply.started": "2022-07-03T23:05:13.268436Z"
    }
   },
   "outputs": [],
   "source": [
    "x.shape"
   ]
  },
  {
   "cell_type": "code",
   "execution_count": null,
   "metadata": {
    "execution": {
     "iopub.execute_input": "2022-07-03T23:05:17.471406Z",
     "iopub.status.busy": "2022-07-03T23:05:17.470739Z",
     "iopub.status.idle": "2022-07-03T23:05:17.478486Z",
     "shell.execute_reply": "2022-07-03T23:05:17.477589Z",
     "shell.execute_reply.started": "2022-07-03T23:05:17.471372Z"
    }
   },
   "outputs": [],
   "source": [
    "y.shape"
   ]
  },
  {
   "cell_type": "code",
   "execution_count": null,
   "metadata": {
    "execution": {
     "iopub.execute_input": "2022-07-03T23:05:21.185913Z",
     "iopub.status.busy": "2022-07-03T23:05:21.184616Z",
     "iopub.status.idle": "2022-07-03T23:05:21.236336Z",
     "shell.execute_reply": "2022-07-03T23:05:21.235179Z",
     "shell.execute_reply.started": "2022-07-03T23:05:21.185854Z"
    }
   },
   "outputs": [],
   "source": [
    "x_train, x_test, y_train, y_test = train_test_split(x, y, test_size=.2)"
   ]
  },
  {
   "cell_type": "code",
   "execution_count": null,
   "metadata": {
    "execution": {
     "iopub.execute_input": "2022-07-03T23:05:25.397824Z",
     "iopub.status.busy": "2022-07-03T23:05:25.397445Z",
     "iopub.status.idle": "2022-07-03T23:05:25.422249Z",
     "shell.execute_reply": "2022-07-03T23:05:25.42123Z",
     "shell.execute_reply.started": "2022-07-03T23:05:25.397793Z"
    }
   },
   "outputs": [],
   "source": [
    "x_train"
   ]
  },
  {
   "cell_type": "code",
   "execution_count": null,
   "metadata": {
    "execution": {
     "iopub.execute_input": "2022-07-03T23:05:30.377902Z",
     "iopub.status.busy": "2022-07-03T23:05:30.37742Z",
     "iopub.status.idle": "2022-07-03T23:05:30.385653Z",
     "shell.execute_reply": "2022-07-03T23:05:30.384626Z",
     "shell.execute_reply.started": "2022-07-03T23:05:30.377853Z"
    }
   },
   "outputs": [],
   "source": [
    "x_train.shape"
   ]
  },
  {
   "cell_type": "code",
   "execution_count": null,
   "metadata": {
    "execution": {
     "iopub.execute_input": "2022-07-03T23:05:34.2043Z",
     "iopub.status.busy": "2022-07-03T23:05:34.203949Z",
     "iopub.status.idle": "2022-07-03T23:05:34.228988Z",
     "shell.execute_reply": "2022-07-03T23:05:34.228104Z",
     "shell.execute_reply.started": "2022-07-03T23:05:34.204271Z"
    }
   },
   "outputs": [],
   "source": [
    "x_test"
   ]
  },
  {
   "cell_type": "code",
   "execution_count": null,
   "metadata": {
    "execution": {
     "iopub.execute_input": "2022-07-03T23:05:40.497484Z",
     "iopub.status.busy": "2022-07-03T23:05:40.497102Z",
     "iopub.status.idle": "2022-07-03T23:05:40.504599Z",
     "shell.execute_reply": "2022-07-03T23:05:40.503544Z",
     "shell.execute_reply.started": "2022-07-03T23:05:40.497455Z"
    }
   },
   "outputs": [],
   "source": [
    "x_test.shape"
   ]
  },
  {
   "cell_type": "code",
   "execution_count": null,
   "metadata": {
    "execution": {
     "iopub.execute_input": "2022-07-03T23:05:44.416222Z",
     "iopub.status.busy": "2022-07-03T23:05:44.415837Z",
     "iopub.status.idle": "2022-07-03T23:05:44.424957Z",
     "shell.execute_reply": "2022-07-03T23:05:44.423928Z",
     "shell.execute_reply.started": "2022-07-03T23:05:44.416192Z"
    }
   },
   "outputs": [],
   "source": [
    "y_train"
   ]
  },
  {
   "cell_type": "code",
   "execution_count": null,
   "metadata": {
    "execution": {
     "iopub.execute_input": "2022-07-03T23:05:50.073528Z",
     "iopub.status.busy": "2022-07-03T23:05:50.073076Z",
     "iopub.status.idle": "2022-07-03T23:05:50.080868Z",
     "shell.execute_reply": "2022-07-03T23:05:50.079945Z",
     "shell.execute_reply.started": "2022-07-03T23:05:50.073489Z"
    }
   },
   "outputs": [],
   "source": [
    "x_train.shape"
   ]
  },
  {
   "cell_type": "code",
   "execution_count": null,
   "metadata": {
    "execution": {
     "iopub.execute_input": "2022-07-03T23:05:55.755598Z",
     "iopub.status.busy": "2022-07-03T23:05:55.755229Z",
     "iopub.status.idle": "2022-07-03T23:05:55.763703Z",
     "shell.execute_reply": "2022-07-03T23:05:55.761583Z",
     "shell.execute_reply.started": "2022-07-03T23:05:55.755569Z"
    }
   },
   "outputs": [],
   "source": [
    "y_train.shape"
   ]
  },
  {
   "cell_type": "code",
   "execution_count": null,
   "metadata": {
    "execution": {
     "iopub.execute_input": "2022-07-03T23:06:00.454123Z",
     "iopub.status.busy": "2022-07-03T23:06:00.453745Z",
     "iopub.status.idle": "2022-07-03T23:06:00.465108Z",
     "shell.execute_reply": "2022-07-03T23:06:00.464027Z",
     "shell.execute_reply.started": "2022-07-03T23:06:00.454094Z"
    }
   },
   "outputs": [],
   "source": [
    "y_train.value_counts()"
   ]
  },
  {
   "cell_type": "code",
   "execution_count": null,
   "metadata": {
    "execution": {
     "iopub.execute_input": "2022-07-03T23:06:04.544903Z",
     "iopub.status.busy": "2022-07-03T23:06:04.544518Z",
     "iopub.status.idle": "2022-07-03T23:06:05.109379Z",
     "shell.execute_reply": "2022-07-03T23:06:05.108074Z",
     "shell.execute_reply.started": "2022-07-03T23:06:04.544867Z"
    }
   },
   "outputs": [],
   "source": [
    "sm = SMOTE()\n",
    "x_train, y_train = sm.fit_resample(x_train, y_train)"
   ]
  },
  {
   "cell_type": "code",
   "execution_count": null,
   "metadata": {
    "execution": {
     "iopub.execute_input": "2022-07-03T23:06:09.188825Z",
     "iopub.status.busy": "2022-07-03T23:06:09.188345Z",
     "iopub.status.idle": "2022-07-03T23:06:09.198797Z",
     "shell.execute_reply": "2022-07-03T23:06:09.197539Z",
     "shell.execute_reply.started": "2022-07-03T23:06:09.188794Z"
    }
   },
   "outputs": [],
   "source": [
    "y_train.value_counts()"
   ]
  },
  {
   "cell_type": "code",
   "execution_count": null,
   "metadata": {
    "execution": {
     "iopub.execute_input": "2022-07-03T23:07:13.633564Z",
     "iopub.status.busy": "2022-07-03T23:07:13.633284Z",
     "iopub.status.idle": "2022-07-03T23:07:14.399666Z",
     "shell.execute_reply": "2022-07-03T23:07:14.398832Z",
     "shell.execute_reply.started": "2022-07-03T23:07:13.63354Z"
    }
   },
   "outputs": [],
   "source": [
    "from sklearn.tree import DecisionTreeClassifier\n",
    "from sklearn.metrics import accuracy_score,f1_score,precision_score, recall_score, accuracy_score, roc_auc_score\n",
    "from sklearn.metrics import classification_report\n",
    "from sklearn.metrics import confusion_matrix\n",
    "\n",
    "model=DecisionTreeClassifier()\n",
    "model.fit(x_train,y_train)\n",
    "y_pred=model.predict(x_test)\n",
    "\n",
    "print(confusion_matrix(y_test,y_pred))\n",
    "print(accuracy_score(y_test,y_pred))\n",
    "print(f1_score(y_test,y_pred))\n",
    "print(roc_auc_score(y_test,y_pred))\n",
    "print(precision_score(y_test,y_pred))\n",
    "print(recall_score(y_test,y_pred))"
   ]
  },
  {
   "cell_type": "code",
   "execution_count": null,
   "metadata": {
    "execution": {
     "iopub.execute_input": "2022-07-03T23:07:26.732329Z",
     "iopub.status.busy": "2022-07-03T23:07:26.731973Z",
     "iopub.status.idle": "2022-07-03T23:07:26.782418Z",
     "shell.execute_reply": "2022-07-03T23:07:26.781446Z",
     "shell.execute_reply.started": "2022-07-03T23:07:26.732305Z"
    }
   },
   "outputs": [],
   "source": [
    "print(f'training accuaracy: {model.score(x_train,y_train)}')\n",
    "print(f'testing accuaracy: {model.score(x_test,y_test)}')"
   ]
  },
  {
   "cell_type": "code",
   "execution_count": null,
   "metadata": {
    "execution": {
     "iopub.execute_input": "2022-07-03T23:07:35.677341Z",
     "iopub.status.busy": "2022-07-03T23:07:35.676659Z",
     "iopub.status.idle": "2022-07-03T23:07:51.800204Z",
     "shell.execute_reply": "2022-07-03T23:07:51.799229Z",
     "shell.execute_reply.started": "2022-07-03T23:07:35.67731Z"
    }
   },
   "outputs": [],
   "source": [
    "from sklearn.ensemble import RandomForestClassifier\n",
    "from sklearn.metrics import accuracy_score\n",
    "from sklearn.metrics import classification_report\n",
    "from sklearn.metrics import confusion_matrix\n",
    "\n",
    "model=RandomForestClassifier(n_estimators=1)\n",
    "model.fit(x_train,y_train)\n",
    "y_pred=model.predict(x_test)\n",
    "\n",
    "print(confusion_matrix(y_test,y_pred))\n",
    "print(accuracy_score(y_test,y_pred))\n",
    "\n",
    "print(f1_score(y_test,y_pred))\n",
    "print(roc_auc_score(y_test,y_pred))\n",
    "print(precision_score(y_test,y_pred))\n",
    "print(recall_score(y_test,y_pred))"
   ]
  },
  {
   "cell_type": "code",
   "execution_count": null,
   "metadata": {},
   "outputs": [],
   "source": [
    "from sklearn.linear_model import LogisticRegression\n",
    "from sklearn.metrics import accuracy_score,f1_score,precision_score, recall_score, accuracy_score, roc_auc_score\n",
    "from sklearn.metrics import classification_report\n",
    "from sklearn.metrics import confusion_matrix\n",
    "\n",
    "model=LogisticRegression(random_state=1234)\n",
    "model.fit(x_train,y_train)\n",
    "y_pred=model.predict(x_test)\n",
    "\n",
    "print(confusion_matrix(y_test,y_pred))\n",
    "print(accuracy_score(y_test,y_pred))\n",
    "print(f1_score(y_test,y_pred))\n",
    "print(roc_auc_score(y_test,y_pred))\n",
    "print(precision_score(y_test,y_pred))\n",
    "print(recall_score(y_test,y_pred))\n",
    "print(f'training accuaracy: {model.score(x_train,y_train)}')\n",
    "print(f'testing accuaracy: {model.score(x_test,y_test)}')"
   ]
  },
  {
   "cell_type": "code",
   "execution_count": null,
   "metadata": {},
   "outputs": [],
   "source": [
    "x_train.columns[x_train.columns.str.contains(\"[\\[\\]<]\")]\n",
    "x_train.info()"
   ]
  },
  {
   "cell_type": "code",
   "execution_count": null,
   "metadata": {},
   "outputs": [],
   "source": [
    "from sklearn.neighbors import KNeighborsClassifier\n",
    "from sklearn.metrics import accuracy_score,f1_score,precision_score, recall_score, accuracy_score, roc_auc_score\n",
    "from sklearn.metrics import classification_report\n",
    "from sklearn.metrics import confusion_matrix\n",
    "\n",
    "model=KNeighborsClassifier(n_neighbors=200)\n",
    "model.fit(x_train,y_train)\n",
    "y_pred=model.predict(x_test)\n",
    "\n",
    "print(confusion_matrix(y_test,y_pred))\n",
    "print(accuracy_score(y_test,y_pred))\n",
    "print(f1_score(y_test,y_pred))\n",
    "print(roc_auc_score(y_test,y_pred))\n",
    "print(precision_score(y_test,y_pred))\n",
    "print(recall_score(y_test,y_pred))"
   ]
  },
  {
   "cell_type": "code",
   "execution_count": null,
   "metadata": {},
   "outputs": [],
   "source": [
    "columns= ['age_<25','age_>74']\n",
    "x_train.drop(columns,axis=1, inplace =True)\n",
    "\n",
    "x_train.info()"
   ]
  },
  {
   "cell_type": "code",
   "execution_count": null,
   "metadata": {},
   "outputs": [],
   "source": [
    "x_test.info()\n",
    "columns= ['age_<25','age_>74']\n",
    "x_test.drop(columns,axis=1, inplace =True)"
   ]
  },
  {
   "cell_type": "code",
   "execution_count": 102,
   "metadata": {},
   "outputs": [
    {
     "name": "stdout",
     "output_type": "stream",
     "text": [
      "[[21813   482]\n",
      " [  179  7259]]\n",
      "0.9777688090673662\n",
      "0.9564529942683971\n",
      "0.9771575969179559\n",
      "0.9377341428755974\n",
      "0.9759343909653132\n"
     ]
    }
   ],
   "source": [
    "import xgboost as xgb\n",
    "x_train.columns[x_train.columns.str.contains(\"[\\[\\]<]\")]\n",
    "# specify hyperparameters\n",
    "\n",
    "\n",
    "xgb_classifier = xgb.XGBClassifier(max_depth=20)\n",
    "xgb_classifier.fit(x_train,y_train)\n",
    "y_pred = xgb_classifier.predict(x_test)\n",
    "print(confusion_matrix(y_test,y_pred))\n",
    "print(accuracy_score(y_test,y_pred))\n",
    "print(f1_score(y_test,y_pred))\n",
    "print(roc_auc_score(y_test,y_pred))\n",
    "print(precision_score(y_test,y_pred))\n",
    "print(recall_score(y_test,y_pred))\n",
    "\n",
    "\n"
   ]
  },
  {
   "cell_type": "code",
   "execution_count": 103,
   "metadata": {},
   "outputs": [
    {
     "name": "stderr",
     "output_type": "stream",
     "text": [
      "/tmp/ipykernel_50/1745009378.py:27: FutureWarning: The frame.append method is deprecated and will be removed from pandas in a future version. Use pandas.concat instead.\n",
      "  result_table = result_table.append({'classifiers':cls.__class__.__name__,\n",
      "/tmp/ipykernel_50/1745009378.py:27: FutureWarning: The frame.append method is deprecated and will be removed from pandas in a future version. Use pandas.concat instead.\n",
      "  result_table = result_table.append({'classifiers':cls.__class__.__name__,\n",
      "/tmp/ipykernel_50/1745009378.py:27: FutureWarning: The frame.append method is deprecated and will be removed from pandas in a future version. Use pandas.concat instead.\n",
      "  result_table = result_table.append({'classifiers':cls.__class__.__name__,\n",
      "/tmp/ipykernel_50/1745009378.py:27: FutureWarning: The frame.append method is deprecated and will be removed from pandas in a future version. Use pandas.concat instead.\n",
      "  result_table = result_table.append({'classifiers':cls.__class__.__name__,\n",
      "/tmp/ipykernel_50/1745009378.py:27: FutureWarning: The frame.append method is deprecated and will be removed from pandas in a future version. Use pandas.concat instead.\n",
      "  result_table = result_table.append({'classifiers':cls.__class__.__name__,\n"
     ]
    }
   ],
   "source": [
    "from sklearn.linear_model import LogisticRegression\n",
    "from sklearn.naive_bayes import GaussianNB\n",
    "from sklearn.neighbors import KNeighborsClassifier\n",
    "from sklearn.tree import DecisionTreeClassifier\n",
    "from sklearn.ensemble import RandomForestClassifier\n",
    "\n",
    "from sklearn.metrics import roc_curve, roc_auc_score\n",
    "\n",
    "# Instantiate the classfiers and make a list\n",
    "classifiers = [LogisticRegression(random_state=1234), \n",
    "               xgb.XGBClassifier(max_depth=20),\n",
    "               KNeighborsClassifier(), \n",
    "               DecisionTreeClassifier(random_state=1234),\n",
    "               RandomForestClassifier(n_estimators=2)]\n",
    "\n",
    "# Define a result table as a DataFrame\n",
    "result_table = pd.DataFrame(columns=['classifiers', 'fpr','tpr','auc'])\n",
    "\n",
    "# Train the models and record the results\n",
    "for cls in classifiers:\n",
    "    model = cls.fit(x_train, y_train)\n",
    "    yproba = model.predict_proba(x_test)[::,1]\n",
    "    \n",
    "    fpr, tpr, _ = roc_curve(y_test,  yproba)\n",
    "    auc = roc_auc_score(y_test, yproba)\n",
    "    \n",
    "    result_table = result_table.append({'classifiers':cls.__class__.__name__,\n",
    "                                        'fpr':fpr, \n",
    "                                        'tpr':tpr, \n",
    "                                        'auc':auc}, ignore_index=True)\n",
    "\n",
    "# Set name of the classifiers as index labels\n",
    "result_table.set_index('classifiers', inplace=True)"
   ]
  },
  {
   "cell_type": "code",
   "execution_count": 104,
   "metadata": {},
   "outputs": [
    {
     "data": {
      "image/png": "[encoded data removed]",
      "text/plain": [
       "<Figure size 800x600 with 1 Axes>"
      ]
     },
     "metadata": {},
     "output_type": "display_data"
    }
   ],
   "source": [
    "fig = plt.figure(figsize=(8,6))\n",
    "\n",
    "for i in result_table.index:\n",
    "    plt.plot(result_table.loc[i]['fpr'], \n",
    "             result_table.loc[i]['tpr'], \n",
    "             label=\"{}, AUC={:.3f}\".format(i, result_table.loc[i]['auc']))\n",
    "    \n",
    "plt.plot([0,1], [0,1], color='orange', linestyle='--')\n",
    "\n",
    "plt.xticks(np.arange(0.0, 1.1, step=0.1))\n",
    "plt.xlabel(\"False Positive Rate\", fontsize=15)\n",
    "\n",
    "plt.yticks(np.arange(0.0, 1.1, step=0.1))\n",
    "plt.ylabel(\"True Positive Rate\", fontsize=15)\n",
    "\n",
    "plt.title('ROC Curve Analysis', fontweight='bold', fontsize=15)\n",
    "plt.legend(prop={'size':13}, loc='lower right')\n",
    "\n",
    "plt.show()"
   ]
  },
  {
   "cell_type": "code",
   "execution_count": null,
   "metadata": {},
   "outputs": [],
   "source": []
  },
  {
   "cell_type": "code",
   "execution_count": null,
   "metadata": {},
   "outputs": [],
   "source": []
  },
  {
   "cell_type": "code",
   "execution_count": null,
   "metadata": {},
   "outputs": [],
   "source": []
  },
  {
   "cell_type": "code",
   "execution_count": null,
   "metadata": {},
   "outputs": [],
   "source": []
  },
  {
   "cell_type": "code",
   "execution_count": null,
   "metadata": {},
   "outputs": [],
   "source": []
  },
  {
   "cell_type": "code",
   "execution_count": null,
   "metadata": {},
   "outputs": [],
   "source": []
  },
  {
   "cell_type": "code",
   "execution_count": null,
   "metadata": {},
   "outputs": [],
   "source": []
  },
  {
   "cell_type": "code",
   "execution_count": null,
   "metadata": {},
   "outputs": [],
   "source": []
  },
  {
   "cell_type": "code",
   "execution_count": null,
   "metadata": {},
   "outputs": [],
   "source": []
  },
  {
   "cell_type": "code",
   "execution_count": null,
   "metadata": {},
   "outputs": [],
   "source": []
  },
  {
   "cell_type": "code",
   "execution_count": null,
   "metadata": {},
   "outputs": [],
   "source": []
  },
  {
   "cell_type": "code",
   "execution_count": null,
   "metadata": {},
   "outputs": [],
   "source": []
  },
  {
   "cell_type": "code",
   "execution_count": null,
   "metadata": {},
   "outputs": [],
   "source": []
  },
  {
   "cell_type": "code",
   "execution_count": null,
   "metadata": {},
   "outputs": [],
   "source": []
  },
  {
   "cell_type": "code",
   "execution_count": null,
   "metadata": {},
   "outputs": [],
   "source": []
  },
  {
   "cell_type": "code",
   "execution_count": null,
   "metadata": {},
   "outputs": [],
   "source": []
  },
  {
   "cell_type": "code",
   "execution_count": null,
   "metadata": {},
   "outputs": [],
   "source": []
  },
  {
   "cell_type": "code",
   "execution_count": null,
   "metadata": {},
   "outputs": [],
   "source": []
  },
  {
   "cell_type": "code",
   "execution_count": null,
   "metadata": {},
   "outputs": [],
   "source": []
  }
 ],
 "metadata": {
  "kernelspec": {
   "display_name": "Python 3 (ipykernel)",
   "language": "python",
   "name": "python3"
  },
  "language_info": {
   "codemirror_mode": {
    "name": "ipython",
    "version": 3
   },
   "file_extension": ".py",
   "mimetype": "text/x-python",
   "name": "python",
   "nbconvert_exporter": "python",
   "pygments_lexer": "ipython3",
   "version": "3.9.13"
  }
 },
 "nbformat": 4,
 "nbformat_minor": 4
}
